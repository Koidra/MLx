{
 "cells": [
  {
   "cell_type": "markdown",
   "metadata": {},
   "source": [
    "<font color=\"blue\" size=\"6\"><b>MLx: Yet Another Machine Learning Framework</b></font>\n",
    "\n",
    "\n",
    "##TL;DR\n",
    "- Model building and analysis made easier\n",
    "- More efficient models\n",
    "- Reproducibility made easier \n",
    " ___"
   ]
  },
  {
   "cell_type": "markdown",
   "metadata": {},
   "source": [
    "#Machine Learning Workflows\n",
    "**Model Building**\n",
    "- Features Exploration\n",
    "- <font color=\"blue\">Features Extraction</font>\n",
    "- <font color=\"blue\">Train model</font>\n",
    " - Finding the right parameters\n",
    " - Iterate\n",
    "- Features importance analysis\n",
    "- Evaluation and Profiling\n",
    "\n",
    "**Operationalization**\n",
    "\n",
    "**Automatic re-training**\n",
    "\n",
    "This demo covers just the model building workflow. The <font color=\"blue\">blue steps</font> are the same for both interactive model training and automatic re-training.\n",
    "___"
   ]
  },
  {
   "cell_type": "markdown",
   "metadata": {},
   "source": [
    "##Featurization Framework | Prelude\n",
    "\n",
    "Before moving to the **Features Exploration** part, it's worth to discuss the concepts of **featurizer** and **feature handlers**.\n",
    "\n",
    "###Features Handler\n",
    "- Different features may require different handlers\n",
    "- Like ML models, features handlers also need to be trained before applied\n",
    "- In MLx, `FeaturesHandler` is an abstract class upon which different feature handlers derive\n",
    "<div style=\"background: #ffffff; overflow:auto;width:auto;border:solid gray;border-width:.1em .1em .1em .8em;padding:.2em .6em;\"><pre style=\"margin: 0; line-height: 125%\"><span style=\"color: #008800; font-weight: bold\">class</span> <span style=\"color: #BB0066; font-weight: bold\">FeaturesHandler</span>(<span style=\"color: #007020\">object</span>):\n",
    "    <span style=\"color: #555555; font-weight: bold\">@abstractmethod</span>\n",
    "    <span style=\"color: #008800; font-weight: bold\">def</span> <span style=\"color: #0066BB; font-weight: bold\">learn</span>(<span style=\"color: #007020\">self</span>, df):\n",
    "        <span style=\"color: #888888\"># This function takes a DataFrame, which represents the data or sampled data,</span>\n",
    "        <span style=\"color: #888888\"># and learns how to handle the input features</span>\n",
    "    \n",
    "    <span style=\"color: #555555; font-weight: bold\">@abstractmethod</span>\n",
    "    <span style=\"color: #008800; font-weight: bold\">def</span> <span style=\"color: #0066BB; font-weight: bold\">apply</span>(<span style=\"color: #007020\">self</span>, values):\n",
    "        <span style=\"color: #888888\"># This function takes raw feature values and returns processed features</span>\n",
    "</pre></div>\n",
    "\n",
    "Below are some common feature handlers implemented in MLx.\n",
    "- **CategoricalHandler** <br>\n",
    "`CategoricalHandler` learns the unique values in the feature column and creates one-of-many (also known as [one-hot](http://en.wikipedia.org/wiki/One-hot)) binary features at application time.\n",
    "- **MapperHandler**<br>\n",
    "`MapperHandler` transforms input features to output features using a provided mapping function (e.g. lambda); there is no learning. A common example of `MapperHandler` is features localization, where we want to divide (purchase amount) features by (country) local averages.\n",
    "- **BinNormalizer**<br>\n",
    "`BinNormalizer` learns the bin thresholds to re-normalize the distribution of the feature values. At application time, it maps the original value to a bin value. `BinNormalizer` has two effects:\n",
    " - Normalize the distribution of the variable\n",
    " - Reducing the range of the values so that tree learners can learn faster.\n",
    "- **PredicatesHandler**<br>\n",
    "`PredicatesHandler`, an untrained handler, allows users to use complex predicates as binary features. All predicates can defined as functions in a single module. In practice, it's common that teams use rules to solve a problem (e.g. fraud detection, search ranking, etc.) before having the capacity to apply complex machine learning. Or many teams use rules engine in conjunction to machine learning models because creating a new rule is an easier way to handle fast-evolving behavior (e.g. in fraud detection). `PredicatesHandler` allows them to use the same predicates in those rules as binary features to the machine learning model.\n",
    "- **CompositionHandler**<br>\n",
    "`CompositionHandler` allows users to combine different handlers to generate features that are results of function composition. An example would be: localize the purchase amounts by country averages, then apply the `BinNormalizer`\n",
    "- ...\n",
    "\n",
    "\n",
    "###Featurizer\n",
    "`Featurizer` is basically a group of feature handlers, which define the whole featurization. A `featurizer` converts raw feature vector to a numeric feature vector that can be consumed by a ML-trained predictor."
   ]
  },
  {
   "cell_type": "markdown",
   "metadata": {},
   "source": [
    "____\n",
    "\n",
    "Enough explanation. The real beef of this demo starts here!"
   ]
  },
  {
   "cell_type": "code",
   "execution_count": 1,
   "metadata": {
    "collapsed": false
   },
   "outputs": [],
   "source": [
    "from pymlx import *\n",
    "\n",
    "train_file = 'data/census_income.train.csv'\n",
    "test_file = 'data/census_income.test.csv'\n",
    "label_col = 'Income >50K'"
   ]
  },
  {
   "cell_type": "markdown",
   "metadata": {},
   "source": [
    "##Features Exploration\n",
    "\n",
    "The `suggest_handlers` function detects different feature types based on adhoc analysis and suggests the right handlers for different features. Read [here](http://nbviewer.ipython.org/urls/dl.dropbox.com/s/t0bfgpyk1erblxf/ML-Framework%20%7C%20Architecture.ipynb#Featurization-Framework) for the concept of `features handler` and the featurization framework. "
   ]
  },
  {
   "cell_type": "code",
   "execution_count": 2,
   "metadata": {
    "collapsed": false,
    "scrolled": false
   },
   "outputs": [
    {
     "name": "stdout",
     "output_type": "stream",
     "text": [
      "CategoricalHandler\n"
     ]
    },
    {
     "data": {
      "text/html": [
       "<div style=\"max-height:1000px;max-width:1500px;overflow:auto;\">\n",
       "<table border=\"1\" class=\"dataframe\">\n",
       "  <thead>\n",
       "    <tr style=\"text-align: right;\">\n",
       "      <th></th>\n",
       "      <th>Count</th>\n",
       "      <th>Unique</th>\n",
       "      <th>Top</th>\n",
       "      <th>Freq</th>\n",
       "      <th>Sample Values</th>\n",
       "    </tr>\n",
       "  </thead>\n",
       "  <tbody>\n",
       "    <tr>\n",
       "      <th>Education</th>\n",
       "      <td> 10000</td>\n",
       "      <td> 16</td>\n",
       "      <td>            HS-grad</td>\n",
       "      <td> 3280</td>\n",
       "      <td> Some-college, Some-college, Masters, Assoc-voc...</td>\n",
       "    </tr>\n",
       "    <tr>\n",
       "      <th>Marital Status</th>\n",
       "      <td> 10000</td>\n",
       "      <td>  7</td>\n",
       "      <td> Married-civ-spouse</td>\n",
       "      <td> 4582</td>\n",
       "      <td> Divorced, Never-married, Divorced, Divorced, N...</td>\n",
       "    </tr>\n",
       "    <tr>\n",
       "      <th>Native Country</th>\n",
       "      <td> 10000</td>\n",
       "      <td> 42</td>\n",
       "      <td>      United-States</td>\n",
       "      <td> 9009</td>\n",
       "      <td> United-States, United-States, United-States, U...</td>\n",
       "    </tr>\n",
       "    <tr>\n",
       "      <th>Occupation</th>\n",
       "      <td> 10000</td>\n",
       "      <td> 15</td>\n",
       "      <td>       Craft-repair</td>\n",
       "      <td> 1246</td>\n",
       "      <td> Sales, Adm-clerical, Exec-managerial, Prof-spe...</td>\n",
       "    </tr>\n",
       "    <tr>\n",
       "      <th>Race</th>\n",
       "      <td> 10000</td>\n",
       "      <td>  5</td>\n",
       "      <td>              White</td>\n",
       "      <td> 8565</td>\n",
       "      <td>                 White, White, White, White, White</td>\n",
       "    </tr>\n",
       "    <tr>\n",
       "      <th>Relationship Status</th>\n",
       "      <td> 10000</td>\n",
       "      <td>  6</td>\n",
       "      <td>            Husband</td>\n",
       "      <td> 4019</td>\n",
       "      <td> Unmarried, Own-child, Unmarried, Not-in-family...</td>\n",
       "    </tr>\n",
       "    <tr>\n",
       "      <th>Sex</th>\n",
       "      <td> 10000</td>\n",
       "      <td>  2</td>\n",
       "      <td>               Male</td>\n",
       "      <td> 6655</td>\n",
       "      <td>                  Female, Female, Male, Male, Male</td>\n",
       "    </tr>\n",
       "    <tr>\n",
       "      <th>Workclass</th>\n",
       "      <td> 10000</td>\n",
       "      <td>  9</td>\n",
       "      <td>            Private</td>\n",
       "      <td> 6988</td>\n",
       "      <td>       Private, Private, Private, Private, Private</td>\n",
       "    </tr>\n",
       "  </tbody>\n",
       "</table>\n",
       "</div>"
      ],
      "text/plain": [
       "                     Count Unique                 Top  Freq  \\\n",
       "Education            10000     16             HS-grad  3280   \n",
       "Marital Status       10000      7  Married-civ-spouse  4582   \n",
       "Native Country       10000     42       United-States  9009   \n",
       "Occupation           10000     15        Craft-repair  1246   \n",
       "Race                 10000      5               White  8565   \n",
       "Relationship Status  10000      6             Husband  4019   \n",
       "Sex                  10000      2                Male  6655   \n",
       "Workclass            10000      9             Private  6988   \n",
       "\n",
       "                                                         Sample Values  \n",
       "Education            Some-college, Some-college, Masters, Assoc-voc...  \n",
       "Marital Status       Divorced, Never-married, Divorced, Divorced, N...  \n",
       "Native Country       United-States, United-States, United-States, U...  \n",
       "Occupation           Sales, Adm-clerical, Exec-managerial, Prof-spe...  \n",
       "Race                                 White, White, White, White, White  \n",
       "Relationship Status  Unmarried, Own-child, Unmarried, Not-in-family...  \n",
       "Sex                                   Female, Female, Male, Male, Male  \n",
       "Workclass                  Private, Private, Private, Private, Private  "
      ]
     },
     "metadata": {},
     "output_type": "display_data"
    },
    {
     "name": "stdout",
     "output_type": "stream",
     "text": [
      "BinNormalizer\n"
     ]
    },
    {
     "data": {
      "text/html": [
       "<div style=\"max-height:1000px;max-width:1500px;overflow:auto;\">\n",
       "<table border=\"1\" class=\"dataframe\">\n",
       "  <thead>\n",
       "    <tr style=\"text-align: right;\">\n",
       "      <th></th>\n",
       "      <th>Count</th>\n",
       "      <th>Mean</th>\n",
       "      <th>Std</th>\n",
       "      <th>Min</th>\n",
       "      <th>25%</th>\n",
       "      <th>50%</th>\n",
       "      <th>75%</th>\n",
       "      <th>Max</th>\n",
       "      <th>Sample Values</th>\n",
       "    </tr>\n",
       "  </thead>\n",
       "  <tbody>\n",
       "    <tr>\n",
       "      <th>Capital Loss</th>\n",
       "      <td>1e+04</td>\n",
       "      <td>89</td>\n",
       "      <td>4e+02</td>\n",
       "      <td>0</td>\n",
       "      <td>0</td>\n",
       "      <td>0</td>\n",
       "      <td>0</td>\n",
       "      <td>3.8e+03</td>\n",
       "      <td> 0, 0, 1902, 0, 0</td>\n",
       "    </tr>\n",
       "  </tbody>\n",
       "</table>\n",
       "</div>"
      ],
      "text/plain": [
       "              Count  Mean   Std  Min  25%  50%  75%     Max     Sample Values\n",
       "Capital Loss  1e+04    89 4e+02    0    0    0    0 3.8e+03  0, 0, 1902, 0, 0"
      ]
     },
     "metadata": {},
     "output_type": "display_data"
    },
    {
     "name": "stdout",
     "output_type": "stream",
     "text": [
      "NEED REVIEW: could be either CategoricalHandler or a numeric handler\n"
     ]
    },
    {
     "data": {
      "text/html": [
       "<div style=\"max-height:1000px;max-width:1500px;overflow:auto;\">\n",
       "<table border=\"1\" class=\"dataframe\">\n",
       "  <thead>\n",
       "    <tr style=\"text-align: right;\">\n",
       "      <th></th>\n",
       "      <th>Sample Values</th>\n",
       "    </tr>\n",
       "  </thead>\n",
       "  <tbody>\n",
       "    <tr>\n",
       "      <th>Age</th>\n",
       "      <td> 28, 62, 41, 19, 48</td>\n",
       "    </tr>\n",
       "    <tr>\n",
       "      <th>Capital Gain</th>\n",
       "      <td>      0, 0, 0, 0, 0</td>\n",
       "    </tr>\n",
       "    <tr>\n",
       "      <th>Hours per week</th>\n",
       "      <td> 48, 45, 40, 30, 40</td>\n",
       "    </tr>\n",
       "    <tr>\n",
       "      <th>Years in Education</th>\n",
       "      <td>  9, 15, 14, 10, 10</td>\n",
       "    </tr>\n",
       "  </tbody>\n",
       "</table>\n",
       "</div>"
      ],
      "text/plain": [
       "                         Sample Values\n",
       "Age                 28, 62, 41, 19, 48\n",
       "Capital Gain             0, 0, 0, 0, 0\n",
       "Hours per week      48, 45, 40, 30, 40\n",
       "Years in Education   9, 15, 14, 10, 10"
      ]
     },
     "metadata": {},
     "output_type": "display_data"
    }
   ],
   "source": [
    "train_df, _ = utils.load_data(train_file, label_col)\n",
    "suggested_handlers = suggest_handlers(train_df)"
   ]
  },
  {
   "cell_type": "markdown",
   "metadata": {},
   "source": [
    "Based on these suggestions and realizing that all `NEED REVIEW` columns are indeed numeric, we can define our features as following."
   ]
  },
  {
   "cell_type": "code",
   "execution_count": 3,
   "metadata": {
    "collapsed": true
   },
   "outputs": [],
   "source": [
    "from pymlx.features_handler import CategoricalHandler, BinNormalizer\n",
    "feat = Featurizer([\n",
    "    CategoricalHandler(['Education', 'Marital Status', 'Native Country', 'Occupation', 'Race', 'Relationship Status', 'Sex', 'Workclass']),\n",
    "    BinNormalizer(['Age', 'Capital Gain', 'Hours per week', 'Years in Education', 'Capital Loss'])\n",
    "])"
   ]
  },
  {
   "cell_type": "markdown",
   "metadata": {},
   "source": [
    "##Data Ingestion & Features Extraction\n",
    "1. Learn the featurizer from training data. If the training data is large, the featurizer only needs to be trained on sampled data by specifying a sample size. \n",
    "2. Load trainable features and labels using the featurizer"
   ]
  },
  {
   "cell_type": "code",
   "execution_count": 4,
   "metadata": {
    "collapsed": false,
    "scrolled": false
   },
   "outputs": [
    {
     "name": "stdout",
     "output_type": "stream",
     "text": [
      "Elapsed: 0.013 minutes\n"
     ]
    }
   ],
   "source": [
    "start_timing()\n",
    "feat.learn(train_file, sample_size=5000) # in case the train data is large, the featurizer only needs to be trained on sampled data\n",
    "train_features, train_labels = utils.load_featurized_data(train_file, label_col, feat)\n",
    "report_timing()"
   ]
  },
  {
   "cell_type": "markdown",
   "metadata": {},
   "source": [
    "##Parameter Sweep\n",
    "Sweep hyper-parameters using the `random_sweep` function to find the optimal parameters to the trainer. Here, we use PR-AUC as the score."
   ]
  },
  {
   "cell_type": "code",
   "execution_count": 15,
   "metadata": {
    "collapsed": false
   },
   "outputs": [
    {
     "name": "stdout",
     "output_type": "stream",
     "text": [
      "Fitting 3 folds for each of 10 candidates, totalling 30 fits\n",
      "[CV] n_estimators=20, subsample=0.8, max_depth=20 ....................\n",
      "[CV] ........... n_estimators=20, subsample=0.8, max_depth=20 -   0.9s\n",
      "[CV] n_estimators=20, subsample=0.8, max_depth=20 ....................\n",
      "[CV] ........... n_estimators=20, subsample=0.8, max_depth=20 -   1.1s\n",
      "[CV] n_estimators=20, subsample=0.8, max_depth=20 ....................\n",
      "[CV] ........... n_estimators=20, subsample=0.8, max_depth=20 -   1.1s\n",
      "[CV] n_estimators=80, subsample=1, max_depth=3 .......................\n",
      "[CV] .............. n_estimators=80, subsample=1, max_depth=3 -   0.7s\n",
      "[CV] n_estimators=80, subsample=1, max_depth=3 .......................\n",
      "[CV] .............. n_estimators=80, subsample=1, max_depth=3 -   0.7s\n",
      "[CV] n_estimators=80, subsample=1, max_depth=3 .......................\n",
      "[CV] .............. n_estimators=80, subsample=1, max_depth=3 -   0.8s\n",
      "[CV] n_estimators=40, subsample=0.8, max_depth=3 .....................\n",
      "[CV] ............ n_estimators=40, subsample=0.8, max_depth=3 -   0.6s\n",
      "[CV] n_estimators=40, subsample=0.8, max_depth=3 .....................\n",
      "[CV] ............ n_estimators=40, subsample=0.8, max_depth=3 -   0.6s\n",
      "[CV] n_estimators=40, subsample=0.8, max_depth=3 .....................\n",
      "[CV] ............ n_estimators=40, subsample=0.8, max_depth=3 -   0.6s\n",
      "[CV] n_estimators=80, subsample=0.8, max_depth=10 ....................\n",
      "[CV] ........... n_estimators=80, subsample=0.8, max_depth=10 -   1.8s\n",
      "[CV] n_estimators=80, subsample=0.8, max_depth=10 ....................\n",
      "[CV] ........... n_estimators=80, subsample=0.8, max_depth=10 -   2.1s\n",
      "[CV] n_estimators=80, subsample=0.8, max_depth=10 ....................\n",
      "[CV] ........... n_estimators=80, subsample=0.8, max_depth=10 -   1.8s\n",
      "[CV] n_estimators=10, subsample=1, max_depth=3 .......................\n",
      "[CV] .............. n_estimators=10, subsample=1, max_depth=3 -   0.4s\n",
      "[CV] n_estimators=10, subsample=1, max_depth=3 .......................\n",
      "[CV] .............. n_estimators=10, subsample=1, max_depth=3 -   0.4s\n",
      "[CV] n_estimators=10, subsample=1, max_depth=3 .......................\n",
      "[CV] .............. n_estimators=10, subsample=1, max_depth=3 -   0.4s\n",
      "[CV] n_estimators=80, subsample=0.8, max_depth=20 ....................\n",
      "[CV] ........... n_estimators=80, subsample=0.8, max_depth=20 -   2.9s\n",
      "[CV] n_estimators=80, subsample=0.8, max_depth=20 ....................\n",
      "[CV] ........... n_estimators=80, subsample=0.8, max_depth=20 -   2.7s\n",
      "[CV] n_estimators=80, subsample=0.8, max_depth=20 ....................\n",
      "[CV] ........... n_estimators=80, subsample=0.8, max_depth=20 -   2.6s\n",
      "[CV] n_estimators=10, subsample=0.8, max_depth=20 ....................\n",
      "[CV] ........... n_estimators=10, subsample=0.8, max_depth=20 -   0.6s\n",
      "[CV] n_estimators=10, subsample=0.8, max_depth=20 ....................\n",
      "[CV] ........... n_estimators=10, subsample=0.8, max_depth=20 -   0.7s\n",
      "[CV] n_estimators=10, subsample=0.8, max_depth=20 ....................\n",
      "[CV] ........... n_estimators=10, subsample=0.8, max_depth=20 -   0.6s\n",
      "[CV] n_estimators=40, subsample=0.8, max_depth=20 ....................\n",
      "[CV] ........... n_estimators=40, subsample=0.8, max_depth=20 -   1.4s\n",
      "[CV] n_estimators=40, subsample=0.8, max_depth=20 ....................\n",
      "[CV] ........... n_estimators=40, subsample=0.8, max_depth=20 -   1.6s\n",
      "[CV] n_estimators=40, subsample=0.8, max_depth=20 ....................\n",
      "[CV] ........... n_estimators=40, subsample=0.8, max_depth=20 -   1.6s\n",
      "[CV] n_estimators=20, subsample=1, max_depth=10 ......................\n",
      "[CV] ............. n_estimators=20, subsample=1, max_depth=10 -   0.6s\n",
      "[CV] n_estimators=20, subsample=1, max_depth=10 ......................\n",
      "[CV] ............. n_estimators=20, subsample=1, max_depth=10 -   0.6s\n",
      "[CV] n_estimators=20, subsample=1, max_depth=10 ......................\n",
      "[CV] ............. n_estimators=20, subsample=1, max_depth=10 -   0.6s\n",
      "[CV] n_estimators=20, subsample=0.8, max_depth=5 .....................\n",
      "[CV] ............ n_estimators=20, subsample=0.8, max_depth=5 -   0.5s\n",
      "[CV] n_estimators=20, subsample=0.8, max_depth=5 .....................\n",
      "[CV] ............ n_estimators=20, subsample=0.8, max_depth=5 -   0.8s\n",
      "[CV] n_estimators=20, subsample=0.8, max_depth=5 .....................\n",
      "[CV] ............ n_estimators=20, subsample=0.8, max_depth=5 -   0.7s"
     ]
    },
    {
     "name": "stderr",
     "output_type": "stream",
     "text": [
      "[Parallel(n_jobs=1)]: Done   1 jobs       | elapsed:    0.9s\n",
      "[Parallel(n_jobs=1)]: Done  30 out of  30 | elapsed:   32.9s finished\n"
     ]
    },
    {
     "name": "stdout",
     "output_type": "stream",
     "text": [
      "\n",
      "Elapsed: 0.55 minutes\n"
     ]
    }
   ],
   "source": [
    "start_timing()\n",
    "sweeper = random_sweep(\n",
    "    train_features, train_labels, \n",
    "    XGBClassifier(), {'max_depth': [3, 5, 10, 20], \n",
    "                      'n_estimators': [10, 20, 40, 80],\n",
    "                      'subsample': [1, 0.8]},\n",
    "    scoring=pr_scorer, n_iter=10)\n",
    "report_timing()"
   ]
  },
  {
   "cell_type": "markdown",
   "metadata": {},
   "source": [
    "Report different swept parameters and their PR-AUC score, sorted by the score."
   ]
  },
  {
   "cell_type": "code",
   "execution_count": 16,
   "metadata": {
    "collapsed": false,
    "scrolled": false
   },
   "outputs": [
    {
     "data": {
      "text/html": [
       "<div style=\"max-height:1000px;max-width:1500px;overflow:auto;\">\n",
       "<table border=\"1\" class=\"dataframe\">\n",
       "  <thead>\n",
       "    <tr style=\"text-align: right;\">\n",
       "      <th></th>\n",
       "      <th>Score</th>\n",
       "      <th>Std</th>\n",
       "      <th>max_depth</th>\n",
       "      <th>n_estimators</th>\n",
       "      <th>subsample</th>\n",
       "    </tr>\n",
       "  </thead>\n",
       "  <tbody>\n",
       "    <tr>\n",
       "      <th>0</th>\n",
       "      <td>0.82</td>\n",
       "      <td>0.0067</td>\n",
       "      <td> 10</td>\n",
       "      <td> 80</td>\n",
       "      <td>0.8</td>\n",
       "    </tr>\n",
       "    <tr>\n",
       "      <th>1</th>\n",
       "      <td>0.81</td>\n",
       "      <td>0.0069</td>\n",
       "      <td> 10</td>\n",
       "      <td> 20</td>\n",
       "      <td>  1</td>\n",
       "    </tr>\n",
       "    <tr>\n",
       "      <th>2</th>\n",
       "      <td>0.81</td>\n",
       "      <td>0.0069</td>\n",
       "      <td>  3</td>\n",
       "      <td> 80</td>\n",
       "      <td>  1</td>\n",
       "    </tr>\n",
       "    <tr>\n",
       "      <th>3</th>\n",
       "      <td> 0.8</td>\n",
       "      <td>0.0066</td>\n",
       "      <td> 20</td>\n",
       "      <td> 40</td>\n",
       "      <td>0.8</td>\n",
       "    </tr>\n",
       "    <tr>\n",
       "      <th>4</th>\n",
       "      <td> 0.8</td>\n",
       "      <td>0.0067</td>\n",
       "      <td> 20</td>\n",
       "      <td> 80</td>\n",
       "      <td>0.8</td>\n",
       "    </tr>\n",
       "    <tr>\n",
       "      <th>5</th>\n",
       "      <td> 0.8</td>\n",
       "      <td>0.0084</td>\n",
       "      <td> 20</td>\n",
       "      <td> 20</td>\n",
       "      <td>0.8</td>\n",
       "    </tr>\n",
       "    <tr>\n",
       "      <th>6</th>\n",
       "      <td>0.79</td>\n",
       "      <td>0.0082</td>\n",
       "      <td> 20</td>\n",
       "      <td> 10</td>\n",
       "      <td>0.8</td>\n",
       "    </tr>\n",
       "    <tr>\n",
       "      <th>7</th>\n",
       "      <td>0.79</td>\n",
       "      <td>0.0088</td>\n",
       "      <td>  5</td>\n",
       "      <td> 20</td>\n",
       "      <td>0.8</td>\n",
       "    </tr>\n",
       "    <tr>\n",
       "      <th>8</th>\n",
       "      <td>0.79</td>\n",
       "      <td>0.0078</td>\n",
       "      <td>  3</td>\n",
       "      <td> 40</td>\n",
       "      <td>0.8</td>\n",
       "    </tr>\n",
       "    <tr>\n",
       "      <th>9</th>\n",
       "      <td>0.75</td>\n",
       "      <td> 0.012</td>\n",
       "      <td>  3</td>\n",
       "      <td> 10</td>\n",
       "      <td>  1</td>\n",
       "    </tr>\n",
       "  </tbody>\n",
       "</table>\n",
       "</div>"
      ],
      "text/plain": [
       "   Score    Std  max_depth  n_estimators  subsample\n",
       "0   0.82 0.0067         10            80        0.8\n",
       "1   0.81 0.0069         10            20          1\n",
       "2   0.81 0.0069          3            80          1\n",
       "3    0.8 0.0066         20            40        0.8\n",
       "4    0.8 0.0067         20            80        0.8\n",
       "5    0.8 0.0084         20            20        0.8\n",
       "6   0.79 0.0082         20            10        0.8\n",
       "7   0.79 0.0088          5            20        0.8\n",
       "8   0.79 0.0078          3            40        0.8\n",
       "9   0.75  0.012          3            10          1"
      ]
     },
     "execution_count": 16,
     "metadata": {},
     "output_type": "execute_result"
    }
   ],
   "source": [
    "sweep_stats(sweeper)"
   ]
  },
  {
   "cell_type": "markdown",
   "metadata": {},
   "source": [
    "##Train model\n",
    "With the right parameters obtained from the previous step, we now train the predictor using these parameters on the full train data."
   ]
  },
  {
   "cell_type": "code",
   "execution_count": 5,
   "metadata": {
    "collapsed": false
   },
   "outputs": [
    {
     "name": "stdout",
     "output_type": "stream",
     "text": [
      "Elapsed: 0.032 minutes\n"
     ]
    }
   ],
   "source": [
    "start_timing()\n",
    "predictor = XGBClassifier(n_estimators=80, max_depth=10, subsample=0.8)\n",
    "predictor.fit(train_features, train_labels) # refit the model on full data\n",
    "report_timing()\n",
    "\n",
    "# Combine featurizer and predictor to make an end-to-end model\n",
    "model = BinaryClassifier(predictor, feat)"
   ]
  },
  {
   "cell_type": "markdown",
   "metadata": {},
   "source": [
    "##Evaluation"
   ]
  },
  {
   "cell_type": "code",
   "execution_count": 6,
   "metadata": {
    "collapsed": false
   },
   "outputs": [
    {
     "data": {
      "image/png": "[encoded data removed]",
      "text/plain": [
       "<matplotlib.figure.Figure at 0x105001978>"
      ]
     },
     "metadata": {},
     "output_type": "display_data"
    }
   ],
   "source": [
    "test_df, test_labels = load_data(test_file, label_col, feature_cols=feat.in_feature_names)\n",
    "predictions = model.bulk_predict(test_df)\n",
    "plot_roc_pr(test_labels, predictions);"
   ]
  },
  {
   "cell_type": "markdown",
   "metadata": {},
   "source": [
    "We can also draw the confusion matrix to see the precision and recall for different thresholds."
   ]
  },
  {
   "cell_type": "code",
   "execution_count": 8,
   "metadata": {
    "collapsed": false,
    "scrolled": true
   },
   "outputs": [
    {
     "name": "stdout",
     "output_type": "stream",
     "text": [
      "                 PREDICTED            Recall\n",
      "         ======F=============T======\n",
      "         |            |            |\n",
      "         F      5430  |       274  |  N: 95.20%\n",
      "         |            |            |\n",
      "LABELED  |-------------------------|\n",
      "         |            |            |\n",
      "         T       728  |      1129  |  P: 60.80%\n",
      "         |            |            |\n",
      "         ===========================\n",
      "Precision   N: 88.18%     P: 80.47%\n"
     ]
    }
   ],
   "source": [
    "confusion_matrix(test_labels, predictions)"
   ]
  },
  {
   "cell_type": "markdown",
   "metadata": {},
   "source": [
    "<font color=\"purple\" size=\"5\"><b>Analyze features importance</b></font>"
   ]
  },
  {
   "cell_type": "code",
   "execution_count": 9,
   "metadata": {
    "collapsed": false
   },
   "outputs": [
    {
     "data": {
      "text/plain": [
       "Age_bin                              1907\n",
       "Hours per week_bin                   1290\n",
       "Capital Loss_bin                      545\n",
       "Capital Gain_bin                      541\n",
       "Years in Education_bin                531\n",
       "Occupation=Exec-managerial            239\n",
       "Workclass=Private                     222\n",
       "Sex=Female                            196\n",
       "Occupation=Prof-specialty             194\n",
       "Workclass=Self-emp-not-inc            177\n",
       "Education=HS-grad                     130\n",
       "Education=Some-college                130\n",
       "Relationship Status=Not-in-family     126\n",
       "Relationship Status=Wife              121\n",
       "Occupation=Sales                      121\n",
       "Native Country=United-States          114\n",
       "Education=Bachelors                   108\n",
       "Occupation=Craft-repair               106\n",
       "Workclass=Local-gov                   102\n",
       "Marital Status=Never-married           95\n",
       "dtype: int64"
      ]
     },
     "execution_count": 9,
     "metadata": {},
     "output_type": "execute_result"
    }
   ],
   "source": [
    "fscores = model.get_fscores()\n",
    "fscores.head(20)"
   ]
  },
  {
   "cell_type": "markdown",
   "metadata": {},
   "source": [
    "##Model diagnostics\n",
    "\n",
    "Here, we print out the top mismatches, i.e. the prediction is far from the label, for further review."
   ]
  },
  {
   "cell_type": "code",
   "execution_count": 10,
   "metadata": {
    "collapsed": false
   },
   "outputs": [
    {
     "data": {
      "text/html": [
       "<div style=\"max-height:1000px;max-width:1500px;overflow:auto;\">\n",
       "<table border=\"1\" class=\"dataframe\">\n",
       "  <thead>\n",
       "    <tr style=\"text-align: right;\">\n",
       "      <th></th>\n",
       "      <th>Labeled</th>\n",
       "      <th>Predicted Probability</th>\n",
       "      <th>Age Bin</th>\n",
       "      <th>Hours Per Week Bin</th>\n",
       "      <th>Capital Loss Bin</th>\n",
       "      <th>Capital Gain Bin</th>\n",
       "      <th>Years In Education Bin</th>\n",
       "      <th>Occupation=Exec-Managerial</th>\n",
       "      <th>Workclass=Private</th>\n",
       "      <th>Sex=Female</th>\n",
       "      <th>Occupation=Prof-Specialty</th>\n",
       "      <th>Workclass=Self-Emp-Not-Inc</th>\n",
       "    </tr>\n",
       "  </thead>\n",
       "  <tbody>\n",
       "    <tr>\n",
       "      <th>7214</th>\n",
       "      <td> 1</td>\n",
       "      <td>0.0018</td>\n",
       "      <td> 4</td>\n",
       "      <td> 7</td>\n",
       "      <td>0</td>\n",
       "      <td>0</td>\n",
       "      <td> 3</td>\n",
       "      <td>0</td>\n",
       "      <td>0</td>\n",
       "      <td>0</td>\n",
       "      <td>0</td>\n",
       "      <td>0</td>\n",
       "    </tr>\n",
       "    <tr>\n",
       "      <th>149 </th>\n",
       "      <td> 1</td>\n",
       "      <td>0.0046</td>\n",
       "      <td>15</td>\n",
       "      <td> 7</td>\n",
       "      <td>0</td>\n",
       "      <td>0</td>\n",
       "      <td> 4</td>\n",
       "      <td>0</td>\n",
       "      <td>1</td>\n",
       "      <td>0</td>\n",
       "      <td>0</td>\n",
       "      <td>0</td>\n",
       "    </tr>\n",
       "    <tr>\n",
       "      <th>1492</th>\n",
       "      <td> 1</td>\n",
       "      <td>0.0047</td>\n",
       "      <td> 8</td>\n",
       "      <td> 7</td>\n",
       "      <td>0</td>\n",
       "      <td>0</td>\n",
       "      <td>13</td>\n",
       "      <td>0</td>\n",
       "      <td>1</td>\n",
       "      <td>1</td>\n",
       "      <td>0</td>\n",
       "      <td>0</td>\n",
       "    </tr>\n",
       "    <tr>\n",
       "      <th>1681</th>\n",
       "      <td> 1</td>\n",
       "      <td>0.0088</td>\n",
       "      <td>31</td>\n",
       "      <td> 3</td>\n",
       "      <td>0</td>\n",
       "      <td>0</td>\n",
       "      <td> 9</td>\n",
       "      <td>0</td>\n",
       "      <td>0</td>\n",
       "      <td>1</td>\n",
       "      <td>0</td>\n",
       "      <td>0</td>\n",
       "    </tr>\n",
       "    <tr>\n",
       "      <th>4919</th>\n",
       "      <td> 1</td>\n",
       "      <td>0.0096</td>\n",
       "      <td> 5</td>\n",
       "      <td> 7</td>\n",
       "      <td>0</td>\n",
       "      <td>0</td>\n",
       "      <td>10</td>\n",
       "      <td>0</td>\n",
       "      <td>1</td>\n",
       "      <td>0</td>\n",
       "      <td>0</td>\n",
       "      <td>0</td>\n",
       "    </tr>\n",
       "    <tr>\n",
       "      <th>5306</th>\n",
       "      <td> 1</td>\n",
       "      <td>  0.01</td>\n",
       "      <td>18</td>\n",
       "      <td> 7</td>\n",
       "      <td>0</td>\n",
       "      <td>0</td>\n",
       "      <td> 9</td>\n",
       "      <td>0</td>\n",
       "      <td>1</td>\n",
       "      <td>0</td>\n",
       "      <td>0</td>\n",
       "      <td>0</td>\n",
       "    </tr>\n",
       "    <tr>\n",
       "      <th>5227</th>\n",
       "      <td> 1</td>\n",
       "      <td> 0.013</td>\n",
       "      <td>26</td>\n",
       "      <td> 2</td>\n",
       "      <td>0</td>\n",
       "      <td>0</td>\n",
       "      <td>10</td>\n",
       "      <td>0</td>\n",
       "      <td>1</td>\n",
       "      <td>1</td>\n",
       "      <td>0</td>\n",
       "      <td>0</td>\n",
       "    </tr>\n",
       "    <tr>\n",
       "      <th>6512</th>\n",
       "      <td> 1</td>\n",
       "      <td> 0.013</td>\n",
       "      <td> 9</td>\n",
       "      <td>14</td>\n",
       "      <td>0</td>\n",
       "      <td>0</td>\n",
       "      <td> 9</td>\n",
       "      <td>0</td>\n",
       "      <td>1</td>\n",
       "      <td>1</td>\n",
       "      <td>0</td>\n",
       "      <td>0</td>\n",
       "    </tr>\n",
       "    <tr>\n",
       "      <th>4618</th>\n",
       "      <td> 1</td>\n",
       "      <td> 0.013</td>\n",
       "      <td>22</td>\n",
       "      <td> 7</td>\n",
       "      <td>0</td>\n",
       "      <td>0</td>\n",
       "      <td> 9</td>\n",
       "      <td>0</td>\n",
       "      <td>1</td>\n",
       "      <td>1</td>\n",
       "      <td>0</td>\n",
       "      <td>0</td>\n",
       "    </tr>\n",
       "    <tr>\n",
       "      <th>4843</th>\n",
       "      <td> 1</td>\n",
       "      <td> 0.016</td>\n",
       "      <td>17</td>\n",
       "      <td> 7</td>\n",
       "      <td>0</td>\n",
       "      <td>0</td>\n",
       "      <td> 9</td>\n",
       "      <td>0</td>\n",
       "      <td>1</td>\n",
       "      <td>1</td>\n",
       "      <td>1</td>\n",
       "      <td>0</td>\n",
       "    </tr>\n",
       "  </tbody>\n",
       "</table>\n",
       "</div>"
      ],
      "text/plain": [
       "      Labeled  Predicted Probability  Age Bin  Hours Per Week Bin  \\\n",
       "7214        1                 0.0018        4                   7   \n",
       "149         1                 0.0046       15                   7   \n",
       "1492        1                 0.0047        8                   7   \n",
       "1681        1                 0.0088       31                   3   \n",
       "4919        1                 0.0096        5                   7   \n",
       "5306        1                   0.01       18                   7   \n",
       "5227        1                  0.013       26                   2   \n",
       "6512        1                  0.013        9                  14   \n",
       "4618        1                  0.013       22                   7   \n",
       "4843        1                  0.016       17                   7   \n",
       "\n",
       "      Capital Loss Bin  Capital Gain Bin  Years In Education Bin  \\\n",
       "7214                 0                 0                       3   \n",
       "149                  0                 0                       4   \n",
       "1492                 0                 0                      13   \n",
       "1681                 0                 0                       9   \n",
       "4919                 0                 0                      10   \n",
       "5306                 0                 0                       9   \n",
       "5227                 0                 0                      10   \n",
       "6512                 0                 0                       9   \n",
       "4618                 0                 0                       9   \n",
       "4843                 0                 0                       9   \n",
       "\n",
       "      Occupation=Exec-Managerial  Workclass=Private  Sex=Female  \\\n",
       "7214                           0                  0           0   \n",
       "149                            0                  1           0   \n",
       "1492                           0                  1           1   \n",
       "1681                           0                  0           1   \n",
       "4919                           0                  1           0   \n",
       "5306                           0                  1           0   \n",
       "5227                           0                  1           1   \n",
       "6512                           0                  1           1   \n",
       "4618                           0                  1           1   \n",
       "4843                           0                  1           1   \n",
       "\n",
       "      Occupation=Prof-Specialty  Workclass=Self-Emp-Not-Inc  \n",
       "7214                          0                           0  \n",
       "149                           0                           0  \n",
       "1492                          0                           0  \n",
       "1681                          0                           0  \n",
       "4919                          0                           0  \n",
       "5306                          0                           0  \n",
       "5227                          0                           0  \n",
       "6512                          0                           0  \n",
       "4618                          0                           0  \n",
       "4843                          1                           0  "
      ]
     },
     "execution_count": 10,
     "metadata": {},
     "output_type": "execute_result"
    }
   ],
   "source": [
    "diagnostics = diagnose(model, test_df, test_labels, cols=fscores.index[0:10], predictions=predictions)\n",
    "diagnostics.head(10)"
   ]
  },
  {
   "cell_type": "markdown",
   "metadata": {},
   "source": [
    "##Model Saving and Loading\n",
    "###Save model\n",
    "Despite having superior performance, this model is actually smaller."
   ]
  },
  {
   "cell_type": "code",
   "execution_count": 14,
   "metadata": {
    "collapsed": false,
    "scrolled": true
   },
   "outputs": [
    {
     "name": "stdout",
     "output_type": "stream",
     "text": [
      "Model size: 652 KB\n"
     ]
    }
   ],
   "source": [
    "model_file = 'model.bin'\n",
    "model.save(model_file)\n",
    "print('Model size: {0} KB'.format(os.path.getsize(model_file) >> 10))"
   ]
  },
  {
   "cell_type": "markdown",
   "metadata": {},
   "source": [
    "###Load model"
   ]
  },
  {
   "cell_type": "code",
   "execution_count": 16,
   "metadata": {
    "collapsed": false
   },
   "outputs": [],
   "source": [
    "model = load(model_file)"
   ]
  },
  {
   "cell_type": "markdown",
   "metadata": {},
   "source": [
    "###Scoring \n",
    "To score, just call `model.predict(features)` on raw features."
   ]
  }
 ],
 "metadata": {
  "kernelspec": {
   "display_name": "Python 3",
   "language": "python",
   "name": "python3"
  },
  "language_info": {
   "codemirror_mode": {
    "name": "ipython",
    "version": 3
   },
   "file_extension": ".py",
   "mimetype": "text/x-python",
   "name": "python",
   "nbconvert_exporter": "python",
   "pygments_lexer": "ipython3",
   "version": "3.4.3"
  }
 },
 "nbformat": 4,
 "nbformat_minor": 0
}
