{
 "cells": [
  {
   "cell_type": "markdown",
   "metadata": {},
   "source": [
    "<font color=\"blue\" size=\"6\"><b>MLx: Yet Another Machine Learning Framework</b></font>\n",
    "\n",
    "\n",
    "## TL;DR\n",
    "- Model building and analysis made easier\n",
    "- More efficient models\n",
    "- Reproducibility made easier \n",
    " ___"
   ]
  },
  {
   "cell_type": "markdown",
   "metadata": {},
   "source": [
    "# Machine Learning Workflows\n",
    "**Model Building**\n",
    "- Features Exploration\n",
    "- <font color=\"blue\">Features Extraction</font>\n",
    "- <font color=\"blue\">Train model</font>\n",
    " - Finding the right parameters\n",
    " - Iterate\n",
    "- Features importance analysis\n",
    "- Evaluation and Profiling\n",
    "\n",
    "**Operationalization**\n",
    "\n",
    "**Automatic re-training**\n",
    "\n",
    "This demo covers just the model building workflow. The <font color=\"blue\">blue steps</font> are the same for both interactive model training and automatic re-training.\n",
    "___"
   ]
  },
  {
   "cell_type": "markdown",
   "metadata": {},
   "source": [
    "## Featurization Framework | Prelude\n",
    "\n",
    "Before moving to the **Features Exploration** part, it's worth to discuss the concepts of **featurizer** and **feature handlers**.\n",
    "\n",
    "### Features Handler\n",
    "- Different features may require different handlers\n",
    "- Like ML models, features handlers also need to be trained before applied\n",
    "- In MLx, `FeaturesHandler` is an abstract class upon which different feature handlers derive\n",
    "<div style=\"background: #ffffff; border-width:.1em .1em .1em .8em;padding:.2em .6em;\"><pre style=\"margin: 0; line-height: 125%\"><span style=\"color: #008800; font-weight: bold\">class</span> <span style=\"color: #BB0066; font-weight: bold\">FeaturesHandler</span>(<span style=\"color: #007020\">object</span>):\n",
    "    <span style=\"color: #555555; font-weight: bold\">@abstractmethod</span>\n",
    "    <span style=\"color: #008800; font-weight: bold\">def</span> <span style=\"color: #0066BB; font-weight: bold\">learn</span>(<span style=\"color: #007020\">self</span>, df):\n",
    "        <span style=\"color: #888888\"># This function takes a DataFrame, which represents the data or sampled data,</span>\n",
    "        <span style=\"color: #888888\"># and learns how to handle the input features</span>\n",
    "    \n",
    "    <span style=\"color: #555555; font-weight: bold\">@abstractmethod</span>\n",
    "    <span style=\"color: #008800; font-weight: bold\">def</span> <span style=\"color: #0066BB; font-weight: bold\">apply</span>(<span style=\"color: #007020\">self</span>, values):\n",
    "        <span style=\"color: #888888\"># This function takes raw feature values and returns processed features</span>\n",
    "</pre></div>\n",
    "\n",
    "Below are some common feature handlers implemented in MLx.\n",
    "- **CategoricalHandler** <br>\n",
    "`CategoricalHandler` learns the unique values in the feature column and creates one-of-many (also known as [one-hot](http://en.wikipedia.org/wiki/One-hot)) binary features at application time.\n",
    "- **MapperHandler**<br>\n",
    "`MapperHandler` transforms input features to output features using a provided mapping function (e.g. lambda); there is no learning. A common example of `MapperHandler` is features localization, where we want to divide (purchase amount) features by (country) local averages.\n",
    "- **BinNormalizer**<br>\n",
    "`BinNormalizer` learns the bin thresholds to re-normalize the distribution of the feature values. At application time, it maps the original value to a bin value. `BinNormalizer` has two effects:\n",
    " - Normalize the distribution of the variable\n",
    " - Reducing the range of the values so that tree learners can learn faster.\n",
    "- **PredicatesHandler**<br>\n",
    "`PredicatesHandler`, an untrained handler, allows users to use complex predicates as binary features. All predicates can defined as functions in a single module. In practice, it's common that teams use rules to solve a problem (e.g. fraud detection, search ranking, etc.) before having the capacity to apply complex machine learning. Or many teams use rules engine in conjunction to machine learning models because creating a new rule is an easier way to handle fast-evolving behavior (e.g. in fraud detection). `PredicatesHandler` allows them to use the same predicates in those rules as binary features to the machine learning model.\n",
    "- **CompositionHandler**<br>\n",
    "`CompositionHandler` allows users to combine different handlers to generate features that are results of function composition. An example would be: localize the purchase amounts by country averages, then apply the `BinNormalizer`\n",
    "- ...\n",
    "\n",
    "\n",
    "### Featurizer\n",
    "`Featurizer` is basically a group of feature handlers, which define the whole featurization. A `featurizer` converts raw feature vector to a numeric feature vector that can be consumed by a ML-trained predictor."
   ]
  },
  {
   "cell_type": "markdown",
   "metadata": {},
   "source": [
    "____\n",
    "\n",
    "Enough explanation. The real beef of this demo starts here! \n",
    "\n",
    "We will demo on the [adult census income classification problem](https://archive.ics.uci.edu/ml/datasets/Census+Income). The task is to build a model that predicts whether a person earns more than \\$50K a year or not. This dataset is interesting because it has both numeric and categorical variables."
   ]
  },
  {
   "cell_type": "code",
   "execution_count": 1,
   "metadata": {
    "collapsed": false
   },
   "outputs": [],
   "source": [
    "from pymlx import *\n",
    "\n",
    "train_file = 'data/census_income.train.csv'\n",
    "test_file = 'data/census_income.test.csv'\n",
    "label_col = 'Income >50K'"
   ]
  },
  {
   "cell_type": "markdown",
   "metadata": {},
   "source": [
    "## Features Exploration\n",
    "\n",
    "The `suggest_handlers` function detects different feature types based on adhoc analysis and suggests the right handlers for different features. Read [here](http://nbviewer.ipython.org/urls/dl.dropbox.com/s/t0bfgpyk1erblxf/ML-Framework%20%7C%20Architecture.ipynb#Featurization-Framework) for the concept of `features handler` and the featurization framework. "
   ]
  },
  {
   "cell_type": "code",
   "execution_count": 2,
   "metadata": {
    "collapsed": false,
    "scrolled": false
   },
   "outputs": [
    {
     "name": "stdout",
     "output_type": "stream",
     "text": [
      "CategoricalHandler\n"
     ]
    },
    {
     "data": {
      "text/html": [
       "<div>\n",
       "<table border=\"1\" class=\"dataframe\">\n",
       "  <thead>\n",
       "    <tr style=\"text-align: right;\">\n",
       "      <th></th>\n",
       "      <th>Count</th>\n",
       "      <th>Unique</th>\n",
       "      <th>Top</th>\n",
       "      <th>Freq</th>\n",
       "      <th>Sample Values</th>\n",
       "    </tr>\n",
       "  </thead>\n",
       "  <tbody>\n",
       "    <tr>\n",
       "      <th>Education</th>\n",
       "      <td>10000</td>\n",
       "      <td>16</td>\n",
       "      <td>HS-grad</td>\n",
       "      <td>3212</td>\n",
       "      <td>Bachelors, Masters, Bachelors, Some-college, H...</td>\n",
       "    </tr>\n",
       "    <tr>\n",
       "      <th>Marital Status</th>\n",
       "      <td>10000</td>\n",
       "      <td>7</td>\n",
       "      <td>Married-civ-spouse</td>\n",
       "      <td>4511</td>\n",
       "      <td>Divorced, Married-civ-spouse, Never-married, M...</td>\n",
       "    </tr>\n",
       "    <tr>\n",
       "      <th>Native Country</th>\n",
       "      <td>10000</td>\n",
       "      <td>41</td>\n",
       "      <td>United-States</td>\n",
       "      <td>8935</td>\n",
       "      <td>United-States, United-States, United-States, G...</td>\n",
       "    </tr>\n",
       "    <tr>\n",
       "      <th>Occupation</th>\n",
       "      <td>10000</td>\n",
       "      <td>15</td>\n",
       "      <td>Prof-specialty</td>\n",
       "      <td>1292</td>\n",
       "      <td>Transport-moving, Prof-specialty, Tech-support...</td>\n",
       "    </tr>\n",
       "    <tr>\n",
       "      <th>Race</th>\n",
       "      <td>10000</td>\n",
       "      <td>5</td>\n",
       "      <td>White</td>\n",
       "      <td>8544</td>\n",
       "      <td>White, White, White, White, White</td>\n",
       "    </tr>\n",
       "    <tr>\n",
       "      <th>Relationship Status</th>\n",
       "      <td>10000</td>\n",
       "      <td>6</td>\n",
       "      <td>Husband</td>\n",
       "      <td>3949</td>\n",
       "      <td>Not-in-family, Husband, Own-child, Husband, Hu...</td>\n",
       "    </tr>\n",
       "    <tr>\n",
       "      <th>Sex</th>\n",
       "      <td>10000</td>\n",
       "      <td>2</td>\n",
       "      <td>Male</td>\n",
       "      <td>6642</td>\n",
       "      <td>Male, Male, Female, Male, Male</td>\n",
       "    </tr>\n",
       "    <tr>\n",
       "      <th>Workclass</th>\n",
       "      <td>10000</td>\n",
       "      <td>9</td>\n",
       "      <td>Private</td>\n",
       "      <td>6986</td>\n",
       "      <td>Private, Local-gov, Private, Private, Self-emp...</td>\n",
       "    </tr>\n",
       "  </tbody>\n",
       "</table>\n",
       "</div>"
      ],
      "text/plain": [
       "                     Count Unique                 Top  Freq  \\\n",
       "Education            10000     16             HS-grad  3212   \n",
       "Marital Status       10000      7  Married-civ-spouse  4511   \n",
       "Native Country       10000     41       United-States  8935   \n",
       "Occupation           10000     15      Prof-specialty  1292   \n",
       "Race                 10000      5               White  8544   \n",
       "Relationship Status  10000      6             Husband  3949   \n",
       "Sex                  10000      2                Male  6642   \n",
       "Workclass            10000      9             Private  6986   \n",
       "\n",
       "                                                         Sample Values  \n",
       "Education            Bachelors, Masters, Bachelors, Some-college, H...  \n",
       "Marital Status       Divorced, Married-civ-spouse, Never-married, M...  \n",
       "Native Country       United-States, United-States, United-States, G...  \n",
       "Occupation           Transport-moving, Prof-specialty, Tech-support...  \n",
       "Race                                 White, White, White, White, White  \n",
       "Relationship Status  Not-in-family, Husband, Own-child, Husband, Hu...  \n",
       "Sex                                     Male, Male, Female, Male, Male  \n",
       "Workclass            Private, Local-gov, Private, Private, Self-emp...  "
      ]
     },
     "metadata": {},
     "output_type": "execute_result"
    },
    {
     "name": "stdout",
     "output_type": "stream",
     "text": [
      "BinNormalizer\n"
     ]
    },
    {
     "data": {
      "text/html": [
       "<div>\n",
       "<table border=\"1\" class=\"dataframe\">\n",
       "  <thead>\n",
       "    <tr style=\"text-align: right;\">\n",
       "      <th></th>\n",
       "      <th>Count</th>\n",
       "      <th>Mean</th>\n",
       "      <th>Std</th>\n",
       "      <th>Min</th>\n",
       "      <th>25%</th>\n",
       "      <th>50%</th>\n",
       "      <th>75%</th>\n",
       "      <th>Max</th>\n",
       "      <th>Sample Values</th>\n",
       "    </tr>\n",
       "  </thead>\n",
       "  <tbody>\n",
       "    <tr>\n",
       "      <th>Capital Loss</th>\n",
       "      <td>1e+04</td>\n",
       "      <td>87</td>\n",
       "      <td>4e+02</td>\n",
       "      <td>0</td>\n",
       "      <td>0</td>\n",
       "      <td>0</td>\n",
       "      <td>0</td>\n",
       "      <td>3.8e+03</td>\n",
       "      <td>0, 0, 0, 0, 0</td>\n",
       "    </tr>\n",
       "  </tbody>\n",
       "</table>\n",
       "</div>"
      ],
      "text/plain": [
       "              Count  Mean   Std  Min  25%  50%  75%     Max  Sample Values\n",
       "Capital Loss  1e+04    87 4e+02    0    0    0    0 3.8e+03  0, 0, 0, 0, 0"
      ]
     },
     "metadata": {},
     "output_type": "execute_result"
    },
    {
     "name": "stdout",
     "output_type": "stream",
     "text": [
      "NEED REVIEW: could be either CategoricalHandler or a numeric handler\n"
     ]
    },
    {
     "data": {
      "text/html": [
       "<div>\n",
       "<table border=\"1\" class=\"dataframe\">\n",
       "  <thead>\n",
       "    <tr style=\"text-align: right;\">\n",
       "      <th></th>\n",
       "      <th>Sample Values</th>\n",
       "    </tr>\n",
       "  </thead>\n",
       "  <tbody>\n",
       "    <tr>\n",
       "      <th>Age</th>\n",
       "      <td>25, 58, 25, 22, 48</td>\n",
       "    </tr>\n",
       "    <tr>\n",
       "      <th>Capital Gain</th>\n",
       "      <td>0, 0, 0, 0, 0</td>\n",
       "    </tr>\n",
       "    <tr>\n",
       "      <th>Hours per week</th>\n",
       "      <td>40, 40, 40, 40, 40</td>\n",
       "    </tr>\n",
       "    <tr>\n",
       "      <th>Years in Education</th>\n",
       "      <td>10, 9, 7, 7, 12</td>\n",
       "    </tr>\n",
       "  </tbody>\n",
       "</table>\n",
       "</div>"
      ],
      "text/plain": [
       "                         Sample Values\n",
       "Age                 25, 58, 25, 22, 48\n",
       "Capital Gain             0, 0, 0, 0, 0\n",
       "Hours per week      40, 40, 40, 40, 40\n",
       "Years in Education     10, 9, 7, 7, 12"
      ]
     },
     "metadata": {},
     "output_type": "execute_result"
    }
   ],
   "source": [
    "train_df, _ = utils.load_data(train_file, label_col)\n",
    "suggested_handlers = suggest_handlers(train_df)"
   ]
  },
  {
   "cell_type": "markdown",
   "metadata": {},
   "source": [
    "Based on these suggestions and realizing that all `NEED REVIEW` columns are indeed numeric, we can define our features as following."
   ]
  },
  {
   "cell_type": "code",
   "execution_count": 3,
   "metadata": {
    "collapsed": true
   },
   "outputs": [],
   "source": [
    "from pymlx.features_handler import CategoricalHandler, BinNormalizer\n",
    "feat = Featurizer([\n",
    "    CategoricalHandler(['Education', 'Marital Status', 'Native Country', 'Occupation', 'Race', 'Relationship Status', 'Sex', 'Workclass']),\n",
    "    BinNormalizer(['Age', 'Capital Gain', 'Hours per week', 'Years in Education', 'Capital Loss'])\n",
    "])"
   ]
  },
  {
   "cell_type": "markdown",
   "metadata": {},
   "source": [
    "## Data Ingestion & Features Extraction\n",
    "1. Learn the featurizer from training data. If the training data is large, the featurizer only needs to be trained on sampled data by specifying a sample size. \n",
    "2. Load trainable features and labels using the featurizer"
   ]
  },
  {
   "cell_type": "code",
   "execution_count": 4,
   "metadata": {
    "collapsed": false,
    "scrolled": false
   },
   "outputs": [
    {
     "name": "stdout",
     "output_type": "stream",
     "text": [
      "Elapsed: 0.01 minutes\n"
     ]
    }
   ],
   "source": [
    "start_timing()\n",
    "feat.learn(train_file, sample_size=5000) # in case the train data is large, the featurizer only needs to be trained on sampled data\n",
    "train_features, train_labels = utils.load_featurized_data(train_file, label_col, feat)\n",
    "report_timing()"
   ]
  },
  {
   "cell_type": "markdown",
   "metadata": {},
   "source": [
    "## Parameter Sweep\n",
    "Sweep hyper-parameters using the `random_sweep` function to find the optimal parameters to the trainer. Here, we use PR-AUC as the score."
   ]
  },
  {
   "cell_type": "code",
   "execution_count": 5,
   "metadata": {
    "collapsed": false
   },
   "outputs": [
    {
     "name": "stdout",
     "output_type": "stream",
     "text": [
      "Fitting 3 folds for each of 10 candidates, totalling 30 fits\n",
      "[CV] n_estimators=20, max_depth=3, subsample=1 .......................\n",
      "[CV] .............. n_estimators=20, max_depth=3, subsample=1 -   0.4s\n",
      "[CV] n_estimators=20, max_depth=3, subsample=1 .......................\n",
      "[CV] .............. n_estimators=20, max_depth=3, subsample=1 -   0.4s\n",
      "[CV] n_estimators=20, max_depth=3, subsample=1 .......................\n",
      "[CV] .............. n_estimators=20, max_depth=3, subsample=1 -   0.3s\n",
      "[CV] n_estimators=20, max_depth=10, subsample=1 ......................\n",
      "[CV] ............. n_estimators=20, max_depth=10, subsample=1 -   1.0s\n",
      "[CV] n_estimators=20, max_depth=10, subsample=1 ......................\n",
      "[CV] ............. n_estimators=20, max_depth=10, subsample=1 -   0.6s\n",
      "[CV] n_estimators=20, max_depth=10, subsample=1 ......................\n",
      "[CV] ............. n_estimators=20, max_depth=10, subsample=1 -   0.8s\n",
      "[CV] n_estimators=10, max_depth=20, subsample=0.8 ....................\n",
      "[CV] ........... n_estimators=10, max_depth=20, subsample=0.8 -   1.6s\n",
      "[CV] n_estimators=10, max_depth=20, subsample=0.8 ....................\n",
      "[CV] ........... n_estimators=10, max_depth=20, subsample=0.8 -   0.9s\n",
      "[CV] n_estimators=10, max_depth=20, subsample=0.8 ....................\n",
      "[CV] ........... n_estimators=10, max_depth=20, subsample=0.8 -   1.3s\n",
      "[CV] n_estimators=10, max_depth=3, subsample=0.8 .....................\n",
      "[CV] ............ n_estimators=10, max_depth=3, subsample=0.8 -   0.4s\n",
      "[CV] n_estimators=10, max_depth=3, subsample=0.8 .....................\n",
      "[CV] ............ n_estimators=10, max_depth=3, subsample=0.8 -   0.3s\n",
      "[CV] n_estimators=10, max_depth=3, subsample=0.8 .....................\n",
      "[CV] ............ n_estimators=10, max_depth=3, subsample=0.8 -   0.4s\n",
      "[CV] n_estimators=40, max_depth=3, subsample=0.8 .....................\n",
      "[CV] ............ n_estimators=40, max_depth=3, subsample=0.8 -   0.9s\n",
      "[CV] n_estimators=40, max_depth=3, subsample=0.8 .....................\n",
      "[CV] ............ n_estimators=40, max_depth=3, subsample=0.8 -   1.3s\n",
      "[CV] n_estimators=40, max_depth=3, subsample=0.8 .....................\n",
      "[CV] ............ n_estimators=40, max_depth=3, subsample=0.8 -   0.8s\n",
      "[CV] n_estimators=80, max_depth=10, subsample=1 ......................\n",
      "[CV] ............. n_estimators=80, max_depth=10, subsample=1 -   2.4s\n",
      "[CV] n_estimators=80, max_depth=10, subsample=1 ......................\n",
      "[CV] ............. n_estimators=80, max_depth=10, subsample=1 -   4.2s\n",
      "[CV] n_estimators=80, max_depth=10, subsample=1 ......................\n",
      "[CV] ............. n_estimators=80, max_depth=10, subsample=1 -   2.6s\n",
      "[CV] n_estimators=40, max_depth=3, subsample=1 .......................\n",
      "[CV] .............. n_estimators=40, max_depth=3, subsample=1 -   1.4s\n",
      "[CV] n_estimators=40, max_depth=3, subsample=1 .......................\n",
      "[CV] .............. n_estimators=40, max_depth=3, subsample=1 -   0.6s\n",
      "[CV] n_estimators=40, max_depth=3, subsample=1 .......................\n",
      "[CV] .............. n_estimators=40, max_depth=3, subsample=1 -   0.7s\n",
      "[CV] n_estimators=20, max_depth=20, subsample=1 ......................\n",
      "[CV] ............. n_estimators=20, max_depth=20, subsample=1 -   2.8s\n",
      "[CV] n_estimators=20, max_depth=20, subsample=1 ......................\n",
      "[CV] ............. n_estimators=20, max_depth=20, subsample=1 -   1.5s\n",
      "[CV] n_estimators=20, max_depth=20, subsample=1 ......................\n",
      "[CV] ............. n_estimators=20, max_depth=20, subsample=1 -   2.8s\n",
      "[CV] n_estimators=10, max_depth=5, subsample=0.8 .....................\n",
      "[CV] ............ n_estimators=10, max_depth=5, subsample=0.8 -   0.5s\n",
      "[CV] n_estimators=10, max_depth=5, subsample=0.8 .....................\n",
      "[CV] ............ n_estimators=10, max_depth=5, subsample=0.8 -   0.4s\n",
      "[CV] n_estimators=10, max_depth=5, subsample=0.8 .....................\n",
      "[CV] ............ n_estimators=10, max_depth=5, subsample=0.8 -   0.7s\n",
      "[CV] n_estimators=10, max_depth=20, subsample=1 ......................\n",
      "[CV] ............. n_estimators=10, max_depth=20, subsample=1 -   0.9s\n",
      "[CV] n_estimators=10, max_depth=20, subsample=1 ......................\n",
      "[CV] ............. n_estimators=10, max_depth=20, subsample=1 -   1.3s\n",
      "[CV] n_estimators=10, max_depth=20, subsample=1 ......................\n",
      "[CV] ............. n_estimators=10, max_depth=20, subsample=1 -   0.8s\n",
      "Elapsed: 0.58 minutes\n"
     ]
    },
    {
     "name": "stderr",
     "output_type": "stream",
     "text": [
      "[Parallel(n_jobs=1)]: Done  30 out of  30 | elapsed:   35.0s finished\n"
     ]
    }
   ],
   "source": [
    "start_timing()\n",
    "sweeper = random_sweep(\n",
    "    train_features, train_labels, \n",
    "    XGBClassifier(), {'max_depth': [3, 5, 10, 20], \n",
    "                      'n_estimators': [10, 20, 40, 80],\n",
    "                      'subsample': [1, 0.8]},\n",
    "    scoring=pr_scorer, n_iter=10)\n",
    "report_timing()"
   ]
  },
  {
   "cell_type": "markdown",
   "metadata": {},
   "source": [
    "Report different swept parameters and their PR-AUC score, sorted by the score."
   ]
  },
  {
   "cell_type": "code",
   "execution_count": 6,
   "metadata": {
    "collapsed": false,
    "scrolled": false
   },
   "outputs": [
    {
     "data": {
      "text/html": [
       "<div>\n",
       "<table border=\"1\" class=\"dataframe\">\n",
       "  <thead>\n",
       "    <tr style=\"text-align: right;\">\n",
       "      <th></th>\n",
       "      <th>Score</th>\n",
       "      <th>Std</th>\n",
       "      <th>max_depth</th>\n",
       "      <th>n_estimators</th>\n",
       "      <th>subsample</th>\n",
       "    </tr>\n",
       "  </thead>\n",
       "  <tbody>\n",
       "    <tr>\n",
       "      <th>0</th>\n",
       "      <td>0.82</td>\n",
       "      <td>0.0057</td>\n",
       "      <td>10</td>\n",
       "      <td>80</td>\n",
       "      <td>1</td>\n",
       "    </tr>\n",
       "    <tr>\n",
       "      <th>1</th>\n",
       "      <td>0.81</td>\n",
       "      <td>0.0067</td>\n",
       "      <td>10</td>\n",
       "      <td>20</td>\n",
       "      <td>1</td>\n",
       "    </tr>\n",
       "    <tr>\n",
       "      <th>2</th>\n",
       "      <td>0.8</td>\n",
       "      <td>0.0079</td>\n",
       "      <td>20</td>\n",
       "      <td>20</td>\n",
       "      <td>1</td>\n",
       "    </tr>\n",
       "    <tr>\n",
       "      <th>3</th>\n",
       "      <td>0.79</td>\n",
       "      <td>0.0091</td>\n",
       "      <td>20</td>\n",
       "      <td>10</td>\n",
       "      <td>0.8</td>\n",
       "    </tr>\n",
       "    <tr>\n",
       "      <th>4</th>\n",
       "      <td>0.79</td>\n",
       "      <td>0.0086</td>\n",
       "      <td>20</td>\n",
       "      <td>10</td>\n",
       "      <td>1</td>\n",
       "    </tr>\n",
       "    <tr>\n",
       "      <th>5</th>\n",
       "      <td>0.79</td>\n",
       "      <td>0.0089</td>\n",
       "      <td>3</td>\n",
       "      <td>40</td>\n",
       "      <td>0.8</td>\n",
       "    </tr>\n",
       "    <tr>\n",
       "      <th>6</th>\n",
       "      <td>0.79</td>\n",
       "      <td>0.0081</td>\n",
       "      <td>3</td>\n",
       "      <td>40</td>\n",
       "      <td>1</td>\n",
       "    </tr>\n",
       "    <tr>\n",
       "      <th>7</th>\n",
       "      <td>0.78</td>\n",
       "      <td>0.0085</td>\n",
       "      <td>5</td>\n",
       "      <td>10</td>\n",
       "      <td>0.8</td>\n",
       "    </tr>\n",
       "    <tr>\n",
       "      <th>8</th>\n",
       "      <td>0.77</td>\n",
       "      <td>0.0095</td>\n",
       "      <td>3</td>\n",
       "      <td>20</td>\n",
       "      <td>1</td>\n",
       "    </tr>\n",
       "    <tr>\n",
       "      <th>9</th>\n",
       "      <td>0.76</td>\n",
       "      <td>0.012</td>\n",
       "      <td>3</td>\n",
       "      <td>10</td>\n",
       "      <td>0.8</td>\n",
       "    </tr>\n",
       "  </tbody>\n",
       "</table>\n",
       "</div>"
      ],
      "text/plain": [
       "   Score    Std  max_depth  n_estimators  subsample\n",
       "0   0.82 0.0057         10            80          1\n",
       "1   0.81 0.0067         10            20          1\n",
       "2    0.8 0.0079         20            20          1\n",
       "3   0.79 0.0091         20            10        0.8\n",
       "4   0.79 0.0086         20            10          1\n",
       "5   0.79 0.0089          3            40        0.8\n",
       "6   0.79 0.0081          3            40          1\n",
       "7   0.78 0.0085          5            10        0.8\n",
       "8   0.77 0.0095          3            20          1\n",
       "9   0.76  0.012          3            10        0.8"
      ]
     },
     "execution_count": 6,
     "metadata": {},
     "output_type": "execute_result"
    }
   ],
   "source": [
    "sweep_stats(sweeper)"
   ]
  },
  {
   "cell_type": "markdown",
   "metadata": {},
   "source": [
    "## Train model\n",
    "With the right parameters obtained from the previous step, we now train the predictor using these parameters on the full train data."
   ]
  },
  {
   "cell_type": "code",
   "execution_count": 7,
   "metadata": {
    "collapsed": false
   },
   "outputs": [
    {
     "name": "stdout",
     "output_type": "stream",
     "text": [
      "Elapsed: 0.085 minutes\n"
     ]
    }
   ],
   "source": [
    "start_timing()\n",
    "predictor = XGBClassifier(n_estimators=80, max_depth=10, subsample=0.8)\n",
    "predictor.fit(train_features, train_labels) # refit the model on full data\n",
    "report_timing()\n",
    "\n",
    "# Combine featurizer and predictor to make an end-to-end model\n",
    "model = BinaryClassifier(predictor, feat)"
   ]
  },
  {
   "cell_type": "markdown",
   "metadata": {},
   "source": [
    "## Evaluation"
   ]
  },
  {
   "cell_type": "code",
   "execution_count": 8,
   "metadata": {
    "collapsed": false
   },
   "outputs": [
    {
     "data": {
      "text/plain": [
       "<IPython.core.display.Javascript object>"
      ]
     },
     "metadata": {},
     "output_type": "display_data"
    },
    {
     "data": {
      "text/html": [
       "<img src=\"data:image/png;base64,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\">"
      ],
      "text/plain": [
       "<IPython.core.display.HTML object>"
      ]
     },
     "metadata": {},
     "output_type": "execute_result"
    }
   ],
   "source": [
    "test_df, test_labels = load_data(test_file, label_col, feature_cols=feat.in_feature_names)\n",
    "predictions = model.bulk_predict(test_df)\n",
    "\n",
    "%matplotlib notebook\n",
    "plot_roc_pr(test_labels, predictions);"
   ]
  },
  {
   "cell_type": "markdown",
   "metadata": {},
   "source": [
    "We can also draw the confusion matrix to see the precision and recall for different thresholds."
   ]
  },
  {
   "cell_type": "code",
   "execution_count": 9,
   "metadata": {
    "collapsed": false,
    "scrolled": true
   },
   "outputs": [
    {
     "name": "stdout",
     "output_type": "stream",
     "text": [
      "                 PREDICTED            Recall\n",
      "         ======F=============T======\n",
      "         |            |            |\n",
      "         F      5364  |       340  |  N: 94.04%\n",
      "         |            |            |\n",
      "LABELED  |-------------------------|\n",
      "         |            |            |\n",
      "         T       641  |      1216  |  P: 65.48%\n",
      "         |            |            |\n",
      "         ===========================\n",
      "Precision   N: 89.33%     P: 78.15%\n"
     ]
    }
   ],
   "source": [
    "confusion_matrix(test_labels, predictions)"
   ]
  },
  {
   "cell_type": "markdown",
   "metadata": {},
   "source": [
    "## Analyze features importance"
   ]
  },
  {
   "cell_type": "code",
   "execution_count": 10,
   "metadata": {
    "collapsed": false
   },
   "outputs": [
    {
     "data": {
      "text/plain": [
       "Age_bin                              1953\n",
       "Hours per week_bin                   1326\n",
       "Capital Gain_bin                      579\n",
       "Capital Loss_bin                      530\n",
       "Years in Education_bin                513\n",
       "Workclass=Private                     239\n",
       "Occupation=Exec-managerial            236\n",
       "Occupation=Prof-specialty             193\n",
       "Sex=Male                              190\n",
       "Workclass=Self-emp-not-inc            180\n",
       "Education=HS-grad                     133\n",
       "Education=Some-college                132\n",
       "Occupation=Sales                      129\n",
       "Relationship Status=Wife              123\n",
       "Relationship Status=Not-in-family     121\n",
       "Education=Bachelors                   119\n",
       "Occupation=Craft-repair               118\n",
       "Workclass=Local-gov                   110\n",
       "Race=White                            108\n",
       "Native Country=United-States          101\n",
       "dtype: int64"
      ]
     },
     "execution_count": 10,
     "metadata": {},
     "output_type": "execute_result"
    }
   ],
   "source": [
    "fscores = model.get_fscores()\n",
    "fscores.head(20)"
   ]
  },
  {
   "cell_type": "markdown",
   "metadata": {},
   "source": [
    "## Model diagnostics\n",
    "\n",
    "Here, we print out the top mismatches, i.e. the prediction is far from the label, for further review."
   ]
  },
  {
   "cell_type": "code",
   "execution_count": 11,
   "metadata": {
    "collapsed": false
   },
   "outputs": [
    {
     "data": {
      "text/html": [
       "<div>\n",
       "<table border=\"1\" class=\"dataframe\">\n",
       "  <thead>\n",
       "    <tr style=\"text-align: right;\">\n",
       "      <th></th>\n",
       "      <th>Labeled</th>\n",
       "      <th>Predicted Probability</th>\n",
       "      <th>Age Bin</th>\n",
       "      <th>Hours Per Week Bin</th>\n",
       "      <th>Capital Gain Bin</th>\n",
       "      <th>Capital Loss Bin</th>\n",
       "      <th>Years In Education Bin</th>\n",
       "      <th>Workclass=Private</th>\n",
       "      <th>Occupation=Exec-Managerial</th>\n",
       "      <th>Occupation=Prof-Specialty</th>\n",
       "      <th>Sex=Male</th>\n",
       "      <th>Workclass=Self-Emp-Not-Inc</th>\n",
       "    </tr>\n",
       "  </thead>\n",
       "  <tbody>\n",
       "    <tr>\n",
       "      <th>7214</th>\n",
       "      <td>1</td>\n",
       "      <td>0.0014</td>\n",
       "      <td>4</td>\n",
       "      <td>7</td>\n",
       "      <td>0</td>\n",
       "      <td>0</td>\n",
       "      <td>3</td>\n",
       "      <td>0</td>\n",
       "      <td>0</td>\n",
       "      <td>0</td>\n",
       "      <td>1</td>\n",
       "      <td>0</td>\n",
       "    </tr>\n",
       "    <tr>\n",
       "      <th>149</th>\n",
       "      <td>1</td>\n",
       "      <td>0.0039</td>\n",
       "      <td>13</td>\n",
       "      <td>7</td>\n",
       "      <td>0</td>\n",
       "      <td>0</td>\n",
       "      <td>4</td>\n",
       "      <td>1</td>\n",
       "      <td>0</td>\n",
       "      <td>0</td>\n",
       "      <td>1</td>\n",
       "      <td>0</td>\n",
       "    </tr>\n",
       "    <tr>\n",
       "      <th>1492</th>\n",
       "      <td>1</td>\n",
       "      <td>0.007</td>\n",
       "      <td>8</td>\n",
       "      <td>7</td>\n",
       "      <td>0</td>\n",
       "      <td>0</td>\n",
       "      <td>13</td>\n",
       "      <td>1</td>\n",
       "      <td>0</td>\n",
       "      <td>0</td>\n",
       "      <td>0</td>\n",
       "      <td>0</td>\n",
       "    </tr>\n",
       "    <tr>\n",
       "      <th>4919</th>\n",
       "      <td>1</td>\n",
       "      <td>0.0089</td>\n",
       "      <td>5</td>\n",
       "      <td>7</td>\n",
       "      <td>0</td>\n",
       "      <td>0</td>\n",
       "      <td>10</td>\n",
       "      <td>1</td>\n",
       "      <td>0</td>\n",
       "      <td>0</td>\n",
       "      <td>1</td>\n",
       "      <td>0</td>\n",
       "    </tr>\n",
       "    <tr>\n",
       "      <th>5227</th>\n",
       "      <td>1</td>\n",
       "      <td>0.01</td>\n",
       "      <td>26</td>\n",
       "      <td>2</td>\n",
       "      <td>0</td>\n",
       "      <td>0</td>\n",
       "      <td>10</td>\n",
       "      <td>1</td>\n",
       "      <td>0</td>\n",
       "      <td>0</td>\n",
       "      <td>0</td>\n",
       "      <td>0</td>\n",
       "    </tr>\n",
       "    <tr>\n",
       "      <th>5306</th>\n",
       "      <td>1</td>\n",
       "      <td>0.011</td>\n",
       "      <td>17</td>\n",
       "      <td>7</td>\n",
       "      <td>0</td>\n",
       "      <td>0</td>\n",
       "      <td>9</td>\n",
       "      <td>1</td>\n",
       "      <td>0</td>\n",
       "      <td>0</td>\n",
       "      <td>1</td>\n",
       "      <td>0</td>\n",
       "    </tr>\n",
       "    <tr>\n",
       "      <th>1027</th>\n",
       "      <td>1</td>\n",
       "      <td>0.013</td>\n",
       "      <td>13</td>\n",
       "      <td>7</td>\n",
       "      <td>0</td>\n",
       "      <td>0</td>\n",
       "      <td>9</td>\n",
       "      <td>1</td>\n",
       "      <td>0</td>\n",
       "      <td>0</td>\n",
       "      <td>1</td>\n",
       "      <td>0</td>\n",
       "    </tr>\n",
       "    <tr>\n",
       "      <th>6512</th>\n",
       "      <td>1</td>\n",
       "      <td>0.013</td>\n",
       "      <td>9</td>\n",
       "      <td>14</td>\n",
       "      <td>0</td>\n",
       "      <td>0</td>\n",
       "      <td>9</td>\n",
       "      <td>1</td>\n",
       "      <td>0</td>\n",
       "      <td>0</td>\n",
       "      <td>0</td>\n",
       "      <td>0</td>\n",
       "    </tr>\n",
       "    <tr>\n",
       "      <th>1681</th>\n",
       "      <td>1</td>\n",
       "      <td>0.013</td>\n",
       "      <td>31</td>\n",
       "      <td>3</td>\n",
       "      <td>0</td>\n",
       "      <td>0</td>\n",
       "      <td>9</td>\n",
       "      <td>0</td>\n",
       "      <td>0</td>\n",
       "      <td>0</td>\n",
       "      <td>0</td>\n",
       "      <td>0</td>\n",
       "    </tr>\n",
       "    <tr>\n",
       "      <th>4618</th>\n",
       "      <td>1</td>\n",
       "      <td>0.014</td>\n",
       "      <td>23</td>\n",
       "      <td>7</td>\n",
       "      <td>0</td>\n",
       "      <td>0</td>\n",
       "      <td>9</td>\n",
       "      <td>1</td>\n",
       "      <td>0</td>\n",
       "      <td>0</td>\n",
       "      <td>0</td>\n",
       "      <td>0</td>\n",
       "    </tr>\n",
       "  </tbody>\n",
       "</table>\n",
       "</div>"
      ],
      "text/plain": [
       "      Labeled  Predicted Probability  Age Bin  Hours Per Week Bin  \\\n",
       "7214        1                 0.0014        4                   7   \n",
       "149         1                 0.0039       13                   7   \n",
       "1492        1                  0.007        8                   7   \n",
       "4919        1                 0.0089        5                   7   \n",
       "5227        1                   0.01       26                   2   \n",
       "5306        1                  0.011       17                   7   \n",
       "1027        1                  0.013       13                   7   \n",
       "6512        1                  0.013        9                  14   \n",
       "1681        1                  0.013       31                   3   \n",
       "4618        1                  0.014       23                   7   \n",
       "\n",
       "      Capital Gain Bin  Capital Loss Bin  Years In Education Bin  \\\n",
       "7214                 0                 0                       3   \n",
       "149                  0                 0                       4   \n",
       "1492                 0                 0                      13   \n",
       "4919                 0                 0                      10   \n",
       "5227                 0                 0                      10   \n",
       "5306                 0                 0                       9   \n",
       "1027                 0                 0                       9   \n",
       "6512                 0                 0                       9   \n",
       "1681                 0                 0                       9   \n",
       "4618                 0                 0                       9   \n",
       "\n",
       "      Workclass=Private  Occupation=Exec-Managerial  \\\n",
       "7214                  0                           0   \n",
       "149                   1                           0   \n",
       "1492                  1                           0   \n",
       "4919                  1                           0   \n",
       "5227                  1                           0   \n",
       "5306                  1                           0   \n",
       "1027                  1                           0   \n",
       "6512                  1                           0   \n",
       "1681                  0                           0   \n",
       "4618                  1                           0   \n",
       "\n",
       "      Occupation=Prof-Specialty  Sex=Male  Workclass=Self-Emp-Not-Inc  \n",
       "7214                          0         1                           0  \n",
       "149                           0         1                           0  \n",
       "1492                          0         0                           0  \n",
       "4919                          0         1                           0  \n",
       "5227                          0         0                           0  \n",
       "5306                          0         1                           0  \n",
       "1027                          0         1                           0  \n",
       "6512                          0         0                           0  \n",
       "1681                          0         0                           0  \n",
       "4618                          0         0                           0  "
      ]
     },
     "execution_count": 11,
     "metadata": {},
     "output_type": "execute_result"
    }
   ],
   "source": [
    "diagnostics = diagnose(model, test_df, test_labels, cols=fscores.index[0:10], predictions=predictions)\n",
    "diagnostics.head(10)"
   ]
  },
  {
   "cell_type": "markdown",
   "metadata": {},
   "source": [
    "## Model Saving and Loading\n",
    "### Save model\n",
    "Despite having superior performance, this model is actually smaller."
   ]
  },
  {
   "cell_type": "code",
   "execution_count": 12,
   "metadata": {
    "collapsed": false,
    "scrolled": true
   },
   "outputs": [
    {
     "name": "stdout",
     "output_type": "stream",
     "text": [
      "Model size: 664 KB\n"
     ]
    }
   ],
   "source": [
    "model_file = 'model.bin'\n",
    "model.save(model_file)\n",
    "\n",
    "from os import path\n",
    "print('Model size: {0} KB'.format(path.getsize(model_file) >> 10))"
   ]
  },
  {
   "cell_type": "markdown",
   "metadata": {},
   "source": [
    "### Load model"
   ]
  },
  {
   "cell_type": "code",
   "execution_count": 13,
   "metadata": {
    "collapsed": false
   },
   "outputs": [],
   "source": [
    "model = load(model_file)"
   ]
  },
  {
   "cell_type": "markdown",
   "metadata": {},
   "source": [
    "### Scoring \n",
    "To score, just call `model.predict(features)` on raw features."
   ]
  }
 ],
 "metadata": {
  "kernelspec": {
   "display_name": "Python 3",
   "language": "python",
   "name": "python3"
  },
  "language_info": {
   "codemirror_mode": {
    "name": "ipython",
    "version": 3
   },
   "file_extension": ".py",
   "mimetype": "text/x-python",
   "name": "python",
   "nbconvert_exporter": "python",
   "pygments_lexer": "ipython3",
   "version": "3.4.3"
  },
  "widgets": {
   "state": {},
   "version": "1.1.2"
  }
 },
 "nbformat": 4,
 "nbformat_minor": 0
}
