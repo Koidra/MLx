{
 "cells": [
  {
   "cell_type": "code",
   "execution_count": 1,
   "metadata": {},
   "outputs": [],
   "source": [
    "%load_ext autoreload\n",
    "%autoreload 2\n",
    "%matplotlib inline\n",
    "from pymlx import *\n",
    "import time"
   ]
  },
  {
   "cell_type": "markdown",
   "metadata": {},
   "source": [
    "Load data"
   ]
  },
  {
   "cell_type": "code",
   "execution_count": 2,
   "metadata": {},
   "outputs": [],
   "source": [
    "train_file = '../data/census_income.train.csv'\n",
    "test_file = '../data/census_income.test.csv'\n",
    "label_col = 'Income >50K'\n",
    "\n",
    "train_df, _ = utils.load_data(train_file, label_col)\n",
    "# suggested_handlers = suggest_handlers(train_df)\n",
    "\n",
    "feat = Featurizer(\n",
    "    categorical = ['Education', 'Marital Status'],\n",
    "    one_hot = ['Native Country', 'Occupation', 'Race', 'Relationship Status', 'Sex', 'Workclass'],\n",
    "    binning = ['Age', 'Capital Gain', 'Hours per week', 'Years in Education', 'Capital Loss']\n",
    ")\n"
   ]
  },
  {
   "cell_type": "markdown",
   "metadata": {},
   "source": [
    "Learn features"
   ]
  },
  {
   "cell_type": "code",
   "execution_count": 3,
   "metadata": {
    "scrolled": true
   },
   "outputs": [
    {
     "name": "stdout",
     "output_type": "stream",
     "text": [
      "Elapsed: 0.06 minutes\n"
     ]
    }
   ],
   "source": [
    "start_timing()\n",
    "feat.learn(train_file) # in case the train data is large, the featurizer only needs to be trained on sampled data\n",
    "train_features, train_labels = utils.load_featurized_data(train_file, label_col, feat, return_dataframe=True\n",
    "                                                         )\n",
    "report_timing()"
   ]
  },
  {
   "cell_type": "code",
   "execution_count": 4,
   "metadata": {},
   "outputs": [
    {
     "data": {
      "text/plain": [
       "(25000, 86)"
      ]
     },
     "execution_count": 4,
     "metadata": {},
     "output_type": "execute_result"
    }
   ],
   "source": [
    "dffeats2npfeats(train_features).shape"
   ]
  },
  {
   "cell_type": "markdown",
   "metadata": {},
   "source": [
    "Find the best params"
   ]
  },
  {
   "cell_type": "code",
   "execution_count": 4,
   "metadata": {},
   "outputs": [],
   "source": [
    "import xgboost\n",
    "import lightgbm"
   ]
  },
  {
   "cell_type": "code",
   "execution_count": 5,
   "metadata": {
    "scrolled": true
   },
   "outputs": [
    {
     "name": "stdout",
     "output_type": "stream",
     "text": [
      "Fitting 3 folds for each of 10 candidates, totalling 30 fits\n",
      "Elapsed: 0.096 minutes\n"
     ]
    },
    {
     "name": "stderr",
     "output_type": "stream",
     "text": [
      "[Parallel(n_jobs=1)]: Done  30 out of  30 | elapsed:    5.8s finished\n"
     ]
    }
   ],
   "source": [
    "start_timing()\n",
    "sweeper = random_sweep(\n",
    "    train_features, train_labels, \n",
    "    lightgbm.LGBMClassifier(), {\n",
    "                      'max_depth': [3, 5, 10, 20], \n",
    "                      'n_estimators': [10, 20, 40, 80],\n",
    "                      'subsample': [1, 0.8]},\n",
    "    scoring=pr_scorer, n_iter=10, verbose=1)\n",
    "report_timing()"
   ]
  },
  {
   "cell_type": "markdown",
   "metadata": {},
   "source": [
    "Training"
   ]
  },
  {
   "cell_type": "code",
   "execution_count": 7,
   "metadata": {},
   "outputs": [
    {
     "name": "stdout",
     "output_type": "stream",
     "text": [
      "Elapsed: 0.17 minutes\n"
     ]
    }
   ],
   "source": [
    "start_timing()\n",
    "predictor = xgboost.XGBClassifier(n_estimators=80, max_depth=10, subsample=0.8)\n",
    "predictor.fit(np.array(train_features.values.tolist()), train_labels) # refit the model on full data\n",
    "report_timing()\n",
    "\n",
    "# Combine featurizer and predictor to make an end-to-end model\n",
    "model = BinaryClassifier(predictor, feat)"
   ]
  },
  {
   "cell_type": "markdown",
   "metadata": {},
   "source": [
    "Testing"
   ]
  },
  {
   "cell_type": "code",
   "execution_count": 12,
   "metadata": {},
   "outputs": [],
   "source": [
    "test_df, test_labels = load_data(test_file, label_col)\n",
    "predictions, raw = model.bulk_predict(test_df)"
   ]
  },
  {
   "cell_type": "code",
   "execution_count": 13,
   "metadata": {},
   "outputs": [
    {
     "data": {
      "text/plain": [
       "array([0.04505242, 0.00176057, 0.01116952, ..., 0.02452752, 0.00102975,\n",
       "       0.99575657], dtype=float32)"
      ]
     },
     "execution_count": 13,
     "metadata": {},
     "output_type": "execute_result"
    }
   ],
   "source": [
    "predictions"
   ]
  },
  {
   "cell_type": "code",
   "execution_count": 15,
   "metadata": {},
   "outputs": [
    {
     "data": {
      "text/plain": [
       "1.0"
      ]
     },
     "execution_count": 15,
     "metadata": {},
     "output_type": "execute_result"
    }
   ],
   "source": [
    "raw[0][0] + raw[0][1]"
   ]
  },
  {
   "cell_type": "markdown",
   "metadata": {},
   "source": [
    "Result"
   ]
  },
  {
   "cell_type": "code",
   "execution_count": 14,
   "metadata": {},
   "outputs": [
    {
     "data": {
      "application/vnd.jupyter.widget-view+json": {
       "model_id": "33c708647e9442edbfe300eea20e442b",
       "version_major": 2,
       "version_minor": 0
      },
      "text/plain": [
       "interactive(children=(FloatSlider(value=0.5, description='threshold', max=1.0, step=0.01), Output()), _dom_cla…"
      ]
     },
     "metadata": {},
     "output_type": "display_data"
    }
   ],
   "source": [
    "confusion_matrix(test_labels, predictions)"
   ]
  },
  {
   "cell_type": "markdown",
   "metadata": {},
   "source": [
    "Feature importance"
   ]
  },
  {
   "cell_type": "code",
   "execution_count": 11,
   "metadata": {},
   "outputs": [
    {
     "data": {
      "text/plain": [
       "Age_bin                       2324\n",
       "Hours per week_bin            1506\n",
       "Education_ide                  760\n",
       "Years in Education_bin         631\n",
       "Capital Gain_bin               571\n",
       "Capital Loss_bin               551\n",
       "Marital Status_ide             285\n",
       "Workclass=Private              281\n",
       "Occupation=Exec-managerial     256\n",
       "Occupation=Prof-specialty      240\n",
       "dtype: int64"
      ]
     },
     "execution_count": 11,
     "metadata": {},
     "output_type": "execute_result"
    }
   ],
   "source": [
    "fscores = model.get_fscores()\n",
    "fscores.head(10)"
   ]
  },
  {
   "cell_type": "code",
   "execution_count": 15,
   "metadata": {},
   "outputs": [
    {
     "data": {
      "image/png": "[encoded data removed]",
      "text/plain": [
       "<Figure size 576x288 with 1 Axes>"
      ]
     },
     "metadata": {
      "needs_background": "light"
     },
     "output_type": "display_data"
    }
   ],
   "source": [
    "visualize_feature_importance(fscores.to_dict(), 10, fig_height=4)"
   ]
  },
  {
   "cell_type": "markdown",
   "metadata": {},
   "source": [
    "Feature density to the target"
   ]
  },
  {
   "cell_type": "code",
   "execution_count": 16,
   "metadata": {},
   "outputs": [],
   "source": [
    "features = train_features.copy()\n",
    "features['Target'] = train_labels"
   ]
  },
  {
   "cell_type": "code",
   "execution_count": 17,
   "metadata": {
    "scrolled": false
   },
   "outputs": [
    {
     "data": {
      "image/png": "[encoded data removed]",
      "text/plain": [
       "<Figure size 432x432 with 3 Axes>"
      ]
     },
     "metadata": {
      "needs_background": "light"
     },
     "output_type": "display_data"
    }
   ],
   "source": [
    "visualize_feat_density(features, 'Age_bin', 'Target')"
   ]
  },
  {
   "cell_type": "code",
   "execution_count": 18,
   "metadata": {},
   "outputs": [
    {
     "data": {
      "text/html": [
       "<div>\n",
       "<style scoped>\n",
       "    .dataframe tbody tr th:only-of-type {\n",
       "        vertical-align: middle;\n",
       "    }\n",
       "\n",
       "    .dataframe tbody tr th {\n",
       "        vertical-align: top;\n",
       "    }\n",
       "\n",
       "    .dataframe thead th {\n",
       "        text-align: right;\n",
       "    }\n",
       "</style>\n",
       "<table border=\"1\" class=\"dataframe\">\n",
       "  <thead>\n",
       "    <tr style=\"text-align: right;\">\n",
       "      <th></th>\n",
       "      <th>Labeled</th>\n",
       "      <th>Predicted Probability</th>\n",
       "      <th>Education Ide</th>\n",
       "      <th>Marital Status Ide</th>\n",
       "      <th>Native Country=United-States</th>\n",
       "      <th>Native Country=Cuba</th>\n",
       "      <th>Native Country=Jamaica</th>\n",
       "      <th>Native Country=India</th>\n",
       "      <th>Native Country=?</th>\n",
       "      <th>Native Country=Mexico</th>\n",
       "      <th>...</th>\n",
       "      <th>Workclass=Local-Gov</th>\n",
       "      <th>Workclass=?</th>\n",
       "      <th>Workclass=Self-Emp-Inc</th>\n",
       "      <th>Workclass=Without-Pay</th>\n",
       "      <th>Workclass=Never-Worked</th>\n",
       "      <th>Age Bin</th>\n",
       "      <th>Capital Gain Bin</th>\n",
       "      <th>Hours Per Week Bin</th>\n",
       "      <th>Years In Education Bin</th>\n",
       "      <th>Capital Loss Bin</th>\n",
       "    </tr>\n",
       "  </thead>\n",
       "  <tbody>\n",
       "    <tr>\n",
       "      <th>7214</th>\n",
       "      <td>1</td>\n",
       "      <td>0.002724</td>\n",
       "      <td>11</td>\n",
       "      <td>0</td>\n",
       "      <td>0</td>\n",
       "      <td>0</td>\n",
       "      <td>0</td>\n",
       "      <td>0</td>\n",
       "      <td>0</td>\n",
       "      <td>0</td>\n",
       "      <td>...</td>\n",
       "      <td>1</td>\n",
       "      <td>0</td>\n",
       "      <td>0</td>\n",
       "      <td>0</td>\n",
       "      <td>0</td>\n",
       "      <td>4</td>\n",
       "      <td>0</td>\n",
       "      <td>7</td>\n",
       "      <td>3</td>\n",
       "      <td>0</td>\n",
       "    </tr>\n",
       "    <tr>\n",
       "      <th>149</th>\n",
       "      <td>1</td>\n",
       "      <td>0.003499</td>\n",
       "      <td>8</td>\n",
       "      <td>0</td>\n",
       "      <td>0</td>\n",
       "      <td>0</td>\n",
       "      <td>0</td>\n",
       "      <td>0</td>\n",
       "      <td>0</td>\n",
       "      <td>1</td>\n",
       "      <td>...</td>\n",
       "      <td>0</td>\n",
       "      <td>0</td>\n",
       "      <td>0</td>\n",
       "      <td>0</td>\n",
       "      <td>0</td>\n",
       "      <td>15</td>\n",
       "      <td>0</td>\n",
       "      <td>7</td>\n",
       "      <td>4</td>\n",
       "      <td>0</td>\n",
       "    </tr>\n",
       "    <tr>\n",
       "      <th>4919</th>\n",
       "      <td>1</td>\n",
       "      <td>0.007949</td>\n",
       "      <td>5</td>\n",
       "      <td>1</td>\n",
       "      <td>1</td>\n",
       "      <td>0</td>\n",
       "      <td>0</td>\n",
       "      <td>0</td>\n",
       "      <td>0</td>\n",
       "      <td>0</td>\n",
       "      <td>...</td>\n",
       "      <td>0</td>\n",
       "      <td>0</td>\n",
       "      <td>0</td>\n",
       "      <td>0</td>\n",
       "      <td>0</td>\n",
       "      <td>5</td>\n",
       "      <td>0</td>\n",
       "      <td>7</td>\n",
       "      <td>10</td>\n",
       "      <td>0</td>\n",
       "    </tr>\n",
       "    <tr>\n",
       "      <th>1492</th>\n",
       "      <td>1</td>\n",
       "      <td>0.008024</td>\n",
       "      <td>0</td>\n",
       "      <td>0</td>\n",
       "      <td>1</td>\n",
       "      <td>0</td>\n",
       "      <td>0</td>\n",
       "      <td>0</td>\n",
       "      <td>0</td>\n",
       "      <td>0</td>\n",
       "      <td>...</td>\n",
       "      <td>0</td>\n",
       "      <td>0</td>\n",
       "      <td>0</td>\n",
       "      <td>0</td>\n",
       "      <td>0</td>\n",
       "      <td>8</td>\n",
       "      <td>0</td>\n",
       "      <td>7</td>\n",
       "      <td>13</td>\n",
       "      <td>0</td>\n",
       "    </tr>\n",
       "    <tr>\n",
       "      <th>1681</th>\n",
       "      <td>1</td>\n",
       "      <td>0.010045</td>\n",
       "      <td>1</td>\n",
       "      <td>6</td>\n",
       "      <td>1</td>\n",
       "      <td>0</td>\n",
       "      <td>0</td>\n",
       "      <td>0</td>\n",
       "      <td>0</td>\n",
       "      <td>0</td>\n",
       "      <td>...</td>\n",
       "      <td>0</td>\n",
       "      <td>1</td>\n",
       "      <td>0</td>\n",
       "      <td>0</td>\n",
       "      <td>0</td>\n",
       "      <td>31</td>\n",
       "      <td>0</td>\n",
       "      <td>3</td>\n",
       "      <td>9</td>\n",
       "      <td>0</td>\n",
       "    </tr>\n",
       "    <tr>\n",
       "      <th>6512</th>\n",
       "      <td>1</td>\n",
       "      <td>0.011058</td>\n",
       "      <td>1</td>\n",
       "      <td>0</td>\n",
       "      <td>1</td>\n",
       "      <td>0</td>\n",
       "      <td>0</td>\n",
       "      <td>0</td>\n",
       "      <td>0</td>\n",
       "      <td>0</td>\n",
       "      <td>...</td>\n",
       "      <td>0</td>\n",
       "      <td>0</td>\n",
       "      <td>0</td>\n",
       "      <td>0</td>\n",
       "      <td>0</td>\n",
       "      <td>9</td>\n",
       "      <td>0</td>\n",
       "      <td>14</td>\n",
       "      <td>9</td>\n",
       "      <td>0</td>\n",
       "    </tr>\n",
       "    <tr>\n",
       "      <th>4618</th>\n",
       "      <td>1</td>\n",
       "      <td>0.012937</td>\n",
       "      <td>1</td>\n",
       "      <td>2</td>\n",
       "      <td>1</td>\n",
       "      <td>0</td>\n",
       "      <td>0</td>\n",
       "      <td>0</td>\n",
       "      <td>0</td>\n",
       "      <td>0</td>\n",
       "      <td>...</td>\n",
       "      <td>0</td>\n",
       "      <td>0</td>\n",
       "      <td>0</td>\n",
       "      <td>0</td>\n",
       "      <td>0</td>\n",
       "      <td>23</td>\n",
       "      <td>0</td>\n",
       "      <td>7</td>\n",
       "      <td>9</td>\n",
       "      <td>0</td>\n",
       "    </tr>\n",
       "    <tr>\n",
       "      <th>1027</th>\n",
       "      <td>1</td>\n",
       "      <td>0.012971</td>\n",
       "      <td>1</td>\n",
       "      <td>0</td>\n",
       "      <td>1</td>\n",
       "      <td>0</td>\n",
       "      <td>0</td>\n",
       "      <td>0</td>\n",
       "      <td>0</td>\n",
       "      <td>0</td>\n",
       "      <td>...</td>\n",
       "      <td>0</td>\n",
       "      <td>0</td>\n",
       "      <td>0</td>\n",
       "      <td>0</td>\n",
       "      <td>0</td>\n",
       "      <td>15</td>\n",
       "      <td>0</td>\n",
       "      <td>7</td>\n",
       "      <td>9</td>\n",
       "      <td>0</td>\n",
       "    </tr>\n",
       "    <tr>\n",
       "      <th>5306</th>\n",
       "      <td>1</td>\n",
       "      <td>0.013434</td>\n",
       "      <td>1</td>\n",
       "      <td>2</td>\n",
       "      <td>1</td>\n",
       "      <td>0</td>\n",
       "      <td>0</td>\n",
       "      <td>0</td>\n",
       "      <td>0</td>\n",
       "      <td>0</td>\n",
       "      <td>...</td>\n",
       "      <td>0</td>\n",
       "      <td>0</td>\n",
       "      <td>0</td>\n",
       "      <td>0</td>\n",
       "      <td>0</td>\n",
       "      <td>19</td>\n",
       "      <td>0</td>\n",
       "      <td>7</td>\n",
       "      <td>9</td>\n",
       "      <td>0</td>\n",
       "    </tr>\n",
       "    <tr>\n",
       "      <th>5572</th>\n",
       "      <td>1</td>\n",
       "      <td>0.015587</td>\n",
       "      <td>6</td>\n",
       "      <td>6</td>\n",
       "      <td>1</td>\n",
       "      <td>0</td>\n",
       "      <td>0</td>\n",
       "      <td>0</td>\n",
       "      <td>0</td>\n",
       "      <td>0</td>\n",
       "      <td>...</td>\n",
       "      <td>0</td>\n",
       "      <td>0</td>\n",
       "      <td>0</td>\n",
       "      <td>0</td>\n",
       "      <td>0</td>\n",
       "      <td>11</td>\n",
       "      <td>0</td>\n",
       "      <td>7</td>\n",
       "      <td>12</td>\n",
       "      <td>0</td>\n",
       "    </tr>\n",
       "  </tbody>\n",
       "</table>\n",
       "<p>10 rows × 88 columns</p>\n",
       "</div>"
      ],
      "text/plain": [
       "      Labeled  Predicted Probability  Education Ide  Marital Status Ide  \\\n",
       "7214        1               0.002724             11                   0   \n",
       "149         1               0.003499              8                   0   \n",
       "4919        1               0.007949              5                   1   \n",
       "1492        1               0.008024              0                   0   \n",
       "1681        1               0.010045              1                   6   \n",
       "6512        1               0.011058              1                   0   \n",
       "4618        1               0.012937              1                   2   \n",
       "1027        1               0.012971              1                   0   \n",
       "5306        1               0.013434              1                   2   \n",
       "5572        1               0.015587              6                   6   \n",
       "\n",
       "      Native Country=United-States  Native Country=Cuba  \\\n",
       "7214                             0                    0   \n",
       "149                              0                    0   \n",
       "4919                             1                    0   \n",
       "1492                             1                    0   \n",
       "1681                             1                    0   \n",
       "6512                             1                    0   \n",
       "4618                             1                    0   \n",
       "1027                             1                    0   \n",
       "5306                             1                    0   \n",
       "5572                             1                    0   \n",
       "\n",
       "      Native Country=Jamaica  Native Country=India  Native Country=?  \\\n",
       "7214                       0                     0                 0   \n",
       "149                        0                     0                 0   \n",
       "4919                       0                     0                 0   \n",
       "1492                       0                     0                 0   \n",
       "1681                       0                     0                 0   \n",
       "6512                       0                     0                 0   \n",
       "4618                       0                     0                 0   \n",
       "1027                       0                     0                 0   \n",
       "5306                       0                     0                 0   \n",
       "5572                       0                     0                 0   \n",
       "\n",
       "      Native Country=Mexico        ...         Workclass=Local-Gov  \\\n",
       "7214                      0        ...                           1   \n",
       "149                       1        ...                           0   \n",
       "4919                      0        ...                           0   \n",
       "1492                      0        ...                           0   \n",
       "1681                      0        ...                           0   \n",
       "6512                      0        ...                           0   \n",
       "4618                      0        ...                           0   \n",
       "1027                      0        ...                           0   \n",
       "5306                      0        ...                           0   \n",
       "5572                      0        ...                           0   \n",
       "\n",
       "      Workclass=?  Workclass=Self-Emp-Inc  Workclass=Without-Pay  \\\n",
       "7214            0                       0                      0   \n",
       "149             0                       0                      0   \n",
       "4919            0                       0                      0   \n",
       "1492            0                       0                      0   \n",
       "1681            1                       0                      0   \n",
       "6512            0                       0                      0   \n",
       "4618            0                       0                      0   \n",
       "1027            0                       0                      0   \n",
       "5306            0                       0                      0   \n",
       "5572            0                       0                      0   \n",
       "\n",
       "      Workclass=Never-Worked  Age Bin  Capital Gain Bin  Hours Per Week Bin  \\\n",
       "7214                       0        4                 0                   7   \n",
       "149                        0       15                 0                   7   \n",
       "4919                       0        5                 0                   7   \n",
       "1492                       0        8                 0                   7   \n",
       "1681                       0       31                 0                   3   \n",
       "6512                       0        9                 0                  14   \n",
       "4618                       0       23                 0                   7   \n",
       "1027                       0       15                 0                   7   \n",
       "5306                       0       19                 0                   7   \n",
       "5572                       0       11                 0                   7   \n",
       "\n",
       "      Years In Education Bin  Capital Loss Bin  \n",
       "7214                       3                 0  \n",
       "149                        4                 0  \n",
       "4919                      10                 0  \n",
       "1492                      13                 0  \n",
       "1681                       9                 0  \n",
       "6512                       9                 0  \n",
       "4618                       9                 0  \n",
       "1027                       9                 0  \n",
       "5306                       9                 0  \n",
       "5572                      12                 0  \n",
       "\n",
       "[10 rows x 88 columns]"
      ]
     },
     "execution_count": 18,
     "metadata": {},
     "output_type": "execute_result"
    }
   ],
   "source": [
    "diagnostics = diagnose(model, test_df, test_labels, predictions=predictions)\n",
    "diagnostics.head(10)"
   ]
  }
 ],
 "metadata": {
  "kernelspec": {
   "display_name": "Python 3.6",
   "language": "python",
   "name": "python3"
  },
  "language_info": {
   "codemirror_mode": {
    "name": "ipython",
    "version": 3
   },
   "file_extension": ".py",
   "mimetype": "text/x-python",
   "name": "python",
   "nbconvert_exporter": "python",
   "pygments_lexer": "ipython3",
   "version": "3.6.6"
  }
 },
 "nbformat": 4,
 "nbformat_minor": 2
}
