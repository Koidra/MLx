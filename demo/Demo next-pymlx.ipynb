{
 "cells": [
  {
   "cell_type": "code",
   "execution_count": 1,
   "metadata": {},
   "outputs": [],
   "source": [
    "%load_ext autoreload\n",
    "%autoreload 2\n",
    "%matplotlib inline"
   ]
  },
  {
   "cell_type": "code",
   "execution_count": 2,
   "metadata": {},
   "outputs": [],
   "source": [
    "from pymlx import *\n",
    "import time"
   ]
  },
  {
   "cell_type": "markdown",
   "metadata": {},
   "source": [
    "Load data"
   ]
  },
  {
   "cell_type": "code",
   "execution_count": 3,
   "metadata": {},
   "outputs": [],
   "source": [
    "train_file = '../data/census_income.train.csv'\n",
    "test_file = '../data/census_income.test.csv'\n",
    "label_col = 'Income >50K'\n",
    "\n",
    "train_df, _ = utils.load_data(train_file, label_col)\n",
    "# suggested_handlers = suggest_handlers(train_df)\n",
    "\n",
    "feat = Featurizer([\n",
    "    OneHotHandler(['Native Country', 'Occupation', 'Race', 'Relationship Status', 'Sex', 'Workclass']),\n",
    "    BinNormalizer(['Age', 'Capital Gain', 'Hours per week', 'Years in Education', 'Capital Loss']),\n",
    "    IdEncodingHandler(['Education', 'Marital Status'])\n",
    "])"
   ]
  },
  {
   "cell_type": "markdown",
   "metadata": {},
   "source": [
    "Learn features"
   ]
  },
  {
   "cell_type": "code",
   "execution_count": 4,
   "metadata": {
    "scrolled": true
   },
   "outputs": [
    {
     "name": "stdout",
     "output_type": "stream",
     "text": [
      "Elapsed: 0.058 minutes\n"
     ]
    }
   ],
   "source": [
    "start_timing()\n",
    "feat.learn(train_file) # in case the train data is large, the featurizer only needs to be trained on sampled data\n",
    "train_features, train_labels = utils.load_featurized_data(train_file, label_col, feat, return_dataframe=False)\n",
    "report_timing()"
   ]
  },
  {
   "cell_type": "markdown",
   "metadata": {},
   "source": [
    "Find the best params"
   ]
  },
  {
   "cell_type": "code",
   "execution_count": 7,
   "metadata": {},
   "outputs": [],
   "source": [
    "import xgboost\n",
    "import lightgbm"
   ]
  },
  {
   "cell_type": "code",
   "execution_count": 8,
   "metadata": {
    "scrolled": true
   },
   "outputs": [
    {
     "name": "stdout",
     "output_type": "stream",
     "text": [
      "Fitting 3 folds for each of 10 candidates, totalling 30 fits\n",
      "Elapsed: 0.07 minutes\n"
     ]
    },
    {
     "name": "stderr",
     "output_type": "stream",
     "text": [
      "[Parallel(n_jobs=1)]: Done  30 out of  30 | elapsed:    4.2s finished\n"
     ]
    }
   ],
   "source": [
    "start_timing()\n",
    "sweeper = random_sweep(\n",
    "    train_features, train_labels, \n",
    "    lightgbm.LGBMClassifier(), {\n",
    "                      'max_depth': [3, 5, 10, 20], \n",
    "                      'n_estimators': [10, 20, 40, 80],\n",
    "                      'subsample': [1, 0.8]},\n",
    "    scoring=pr_scorer, n_iter=10, verbose=1)\n",
    "report_timing()"
   ]
  },
  {
   "cell_type": "markdown",
   "metadata": {},
   "source": [
    "Training"
   ]
  },
  {
   "cell_type": "code",
   "execution_count": 10,
   "metadata": {},
   "outputs": [
    {
     "name": "stdout",
     "output_type": "stream",
     "text": [
      "Elapsed: 0.003 minutes\n"
     ]
    }
   ],
   "source": [
    "start_timing()\n",
    "predictor = lightgbm.LGBMClassifier(n_estimators=80, max_depth=10, subsample=0.8)\n",
    "predictor.fit(train_features, train_labels) # refit the model on full data\n",
    "report_timing()\n",
    "\n",
    "# Combine featurizer and predictor to make an end-to-end model\n",
    "model = BinaryClassifier(predictor, feat)"
   ]
  },
  {
   "cell_type": "markdown",
   "metadata": {},
   "source": [
    "Testing"
   ]
  },
  {
   "cell_type": "code",
   "execution_count": 11,
   "metadata": {},
   "outputs": [],
   "source": [
    "test_df, test_labels = load_data(test_file, label_col)"
   ]
  },
  {
   "cell_type": "code",
   "execution_count": 12,
   "metadata": {
    "scrolled": false
   },
   "outputs": [],
   "source": [
    "predictions, raw = model.bulk_predict(test_df)"
   ]
  },
  {
   "cell_type": "markdown",
   "metadata": {},
   "source": [
    "Result"
   ]
  },
  {
   "cell_type": "code",
   "execution_count": 13,
   "metadata": {},
   "outputs": [
    {
     "data": {
      "application/vnd.jupyter.widget-view+json": {
       "model_id": "6b44fbe19dec4088bf6ee11d2442b1d0",
       "version_major": 2,
       "version_minor": 0
      },
      "text/plain": [
       "interactive(children=(FloatSlider(value=0.5, description='threshold', max=1.0, step=0.01), Output()), _dom_cla…"
      ]
     },
     "metadata": {},
     "output_type": "display_data"
    }
   ],
   "source": [
    "confusion_matrix(test_labels, predictions)"
   ]
  },
  {
   "cell_type": "markdown",
   "metadata": {},
   "source": [
    "Feature importance"
   ]
  },
  {
   "cell_type": "code",
   "execution_count": 23,
   "metadata": {},
   "outputs": [],
   "source": [
    "import xgboost"
   ]
  },
  {
   "cell_type": "code",
   "execution_count": 24,
   "metadata": {},
   "outputs": [],
   "source": [
    "a = xgboost.XGBClassifier"
   ]
  },
  {
   "cell_type": "code",
   "execution_count": 29,
   "metadata": {},
   "outputs": [
    {
     "data": {
      "text/plain": [
       "'xgboost.sklearn'"
      ]
     },
     "execution_count": 29,
     "metadata": {},
     "output_type": "execute_result"
    }
   ],
   "source": [
    "a.__module__"
   ]
  },
  {
   "cell_type": "code",
   "execution_count": 22,
   "metadata": {},
   "outputs": [
    {
     "data": {
      "text/plain": [
       "'lightgbm.sklearn'"
      ]
     },
     "execution_count": 22,
     "metadata": {},
     "output_type": "execute_result"
    }
   ],
   "source": []
  },
  {
   "cell_type": "code",
   "execution_count": null,
   "metadata": {},
   "outputs": [],
   "source": []
  },
  {
   "cell_type": "code",
   "execution_count": 15,
   "metadata": {
    "scrolled": false
   },
   "outputs": [
    {
     "data": {
      "text/plain": [
       "Age_bin                        379\n",
       "Hours_per_week_bin             258\n",
       "Capital_Gain_bin               253\n",
       "Capital_Loss_bin               241\n",
       "Years_in_Education_bin         210\n",
       "Marital_Status_ide             102\n",
       "Education_ide                   86\n",
       "Relationship_Status=Husband     58\n",
       "Relationship_Status=Wife        53\n",
       "Occupation=Exec-managerial      50\n",
       "dtype: int64"
      ]
     },
     "execution_count": 15,
     "metadata": {},
     "output_type": "execute_result"
    }
   ],
   "source": [
    "fscores = model.get_fscores()\n",
    "fscores.head(10)"
   ]
  },
  {
   "cell_type": "code",
   "execution_count": 18,
   "metadata": {},
   "outputs": [
    {
     "data": {
      "image/png": "[encoded data removed]",
      "text/plain": [
       "<Figure size 576x288 with 1 Axes>"
      ]
     },
     "metadata": {
      "needs_background": "light"
     },
     "output_type": "display_data"
    }
   ],
   "source": [
    "visualize_feature_importance(fscores.to_dict(), 10, fig_height=4)"
   ]
  },
  {
   "cell_type": "markdown",
   "metadata": {},
   "source": [
    "Feature density to the target"
   ]
  },
  {
   "cell_type": "code",
   "execution_count": 19,
   "metadata": {},
   "outputs": [],
   "source": [
    "features = train_features.copy()\n",
    "features['Target'] = train_labels"
   ]
  },
  {
   "cell_type": "code",
   "execution_count": 20,
   "metadata": {
    "scrolled": false
   },
   "outputs": [
    {
     "data": {
      "image/png": "[encoded data removed]",
      "text/plain": [
       "<Figure size 432x432 with 3 Axes>"
      ]
     },
     "metadata": {
      "needs_background": "light"
     },
     "output_type": "display_data"
    }
   ],
   "source": [
    "visualize_feat_density(features, 'Age_bin', 'Target')"
   ]
  },
  {
   "cell_type": "code",
   "execution_count": 21,
   "metadata": {},
   "outputs": [
    {
     "data": {
      "text/html": [
       "<div>\n",
       "<style scoped>\n",
       "    .dataframe tbody tr th:only-of-type {\n",
       "        vertical-align: middle;\n",
       "    }\n",
       "\n",
       "    .dataframe tbody tr th {\n",
       "        vertical-align: top;\n",
       "    }\n",
       "\n",
       "    .dataframe thead th {\n",
       "        text-align: right;\n",
       "    }\n",
       "</style>\n",
       "<table border=\"1\" class=\"dataframe\">\n",
       "  <thead>\n",
       "    <tr style=\"text-align: right;\">\n",
       "      <th></th>\n",
       "      <th>Labeled</th>\n",
       "      <th>Predicted Probability</th>\n",
       "      <th>Native Country=United-States</th>\n",
       "      <th>Native Country=Cuba</th>\n",
       "      <th>Native Country=Jamaica</th>\n",
       "      <th>Native Country=India</th>\n",
       "      <th>Native Country=?</th>\n",
       "      <th>Native Country=Mexico</th>\n",
       "      <th>Native Country=South</th>\n",
       "      <th>Native Country=Puerto-Rico</th>\n",
       "      <th>...</th>\n",
       "      <th>Workclass=Self-Emp-Inc</th>\n",
       "      <th>Workclass=Without-Pay</th>\n",
       "      <th>Workclass=Never-Worked</th>\n",
       "      <th>Age Bin</th>\n",
       "      <th>Capital Gain Bin</th>\n",
       "      <th>Hours Per Week Bin</th>\n",
       "      <th>Years In Education Bin</th>\n",
       "      <th>Capital Loss Bin</th>\n",
       "      <th>Education Ide</th>\n",
       "      <th>Marital Status Ide</th>\n",
       "    </tr>\n",
       "  </thead>\n",
       "  <tbody>\n",
       "    <tr>\n",
       "      <th>7214</th>\n",
       "      <td>1</td>\n",
       "      <td>0.001424</td>\n",
       "      <td>0</td>\n",
       "      <td>0</td>\n",
       "      <td>0</td>\n",
       "      <td>0</td>\n",
       "      <td>0</td>\n",
       "      <td>0</td>\n",
       "      <td>0</td>\n",
       "      <td>0</td>\n",
       "      <td>...</td>\n",
       "      <td>0</td>\n",
       "      <td>0</td>\n",
       "      <td>0</td>\n",
       "      <td>4</td>\n",
       "      <td>0</td>\n",
       "      <td>7</td>\n",
       "      <td>3</td>\n",
       "      <td>0</td>\n",
       "      <td>11</td>\n",
       "      <td>0</td>\n",
       "    </tr>\n",
       "    <tr>\n",
       "      <th>149</th>\n",
       "      <td>1</td>\n",
       "      <td>0.003545</td>\n",
       "      <td>0</td>\n",
       "      <td>0</td>\n",
       "      <td>0</td>\n",
       "      <td>0</td>\n",
       "      <td>0</td>\n",
       "      <td>1</td>\n",
       "      <td>0</td>\n",
       "      <td>0</td>\n",
       "      <td>...</td>\n",
       "      <td>0</td>\n",
       "      <td>0</td>\n",
       "      <td>0</td>\n",
       "      <td>15</td>\n",
       "      <td>0</td>\n",
       "      <td>7</td>\n",
       "      <td>4</td>\n",
       "      <td>0</td>\n",
       "      <td>8</td>\n",
       "      <td>0</td>\n",
       "    </tr>\n",
       "    <tr>\n",
       "      <th>1492</th>\n",
       "      <td>1</td>\n",
       "      <td>0.009243</td>\n",
       "      <td>1</td>\n",
       "      <td>0</td>\n",
       "      <td>0</td>\n",
       "      <td>0</td>\n",
       "      <td>0</td>\n",
       "      <td>0</td>\n",
       "      <td>0</td>\n",
       "      <td>0</td>\n",
       "      <td>...</td>\n",
       "      <td>0</td>\n",
       "      <td>0</td>\n",
       "      <td>0</td>\n",
       "      <td>8</td>\n",
       "      <td>0</td>\n",
       "      <td>7</td>\n",
       "      <td>13</td>\n",
       "      <td>0</td>\n",
       "      <td>0</td>\n",
       "      <td>0</td>\n",
       "    </tr>\n",
       "    <tr>\n",
       "      <th>1681</th>\n",
       "      <td>1</td>\n",
       "      <td>0.009924</td>\n",
       "      <td>1</td>\n",
       "      <td>0</td>\n",
       "      <td>0</td>\n",
       "      <td>0</td>\n",
       "      <td>0</td>\n",
       "      <td>0</td>\n",
       "      <td>0</td>\n",
       "      <td>0</td>\n",
       "      <td>...</td>\n",
       "      <td>0</td>\n",
       "      <td>0</td>\n",
       "      <td>0</td>\n",
       "      <td>31</td>\n",
       "      <td>0</td>\n",
       "      <td>3</td>\n",
       "      <td>9</td>\n",
       "      <td>0</td>\n",
       "      <td>1</td>\n",
       "      <td>6</td>\n",
       "    </tr>\n",
       "    <tr>\n",
       "      <th>5306</th>\n",
       "      <td>1</td>\n",
       "      <td>0.014526</td>\n",
       "      <td>1</td>\n",
       "      <td>0</td>\n",
       "      <td>0</td>\n",
       "      <td>0</td>\n",
       "      <td>0</td>\n",
       "      <td>0</td>\n",
       "      <td>0</td>\n",
       "      <td>0</td>\n",
       "      <td>...</td>\n",
       "      <td>0</td>\n",
       "      <td>0</td>\n",
       "      <td>0</td>\n",
       "      <td>19</td>\n",
       "      <td>0</td>\n",
       "      <td>7</td>\n",
       "      <td>9</td>\n",
       "      <td>0</td>\n",
       "      <td>1</td>\n",
       "      <td>2</td>\n",
       "    </tr>\n",
       "    <tr>\n",
       "      <th>1027</th>\n",
       "      <td>1</td>\n",
       "      <td>0.016621</td>\n",
       "      <td>1</td>\n",
       "      <td>0</td>\n",
       "      <td>0</td>\n",
       "      <td>0</td>\n",
       "      <td>0</td>\n",
       "      <td>0</td>\n",
       "      <td>0</td>\n",
       "      <td>0</td>\n",
       "      <td>...</td>\n",
       "      <td>0</td>\n",
       "      <td>0</td>\n",
       "      <td>0</td>\n",
       "      <td>15</td>\n",
       "      <td>0</td>\n",
       "      <td>7</td>\n",
       "      <td>9</td>\n",
       "      <td>0</td>\n",
       "      <td>1</td>\n",
       "      <td>0</td>\n",
       "    </tr>\n",
       "    <tr>\n",
       "      <th>6512</th>\n",
       "      <td>1</td>\n",
       "      <td>0.017664</td>\n",
       "      <td>1</td>\n",
       "      <td>0</td>\n",
       "      <td>0</td>\n",
       "      <td>0</td>\n",
       "      <td>0</td>\n",
       "      <td>0</td>\n",
       "      <td>0</td>\n",
       "      <td>0</td>\n",
       "      <td>...</td>\n",
       "      <td>0</td>\n",
       "      <td>0</td>\n",
       "      <td>0</td>\n",
       "      <td>9</td>\n",
       "      <td>0</td>\n",
       "      <td>14</td>\n",
       "      <td>9</td>\n",
       "      <td>0</td>\n",
       "      <td>1</td>\n",
       "      <td>0</td>\n",
       "    </tr>\n",
       "    <tr>\n",
       "      <th>4618</th>\n",
       "      <td>1</td>\n",
       "      <td>0.017764</td>\n",
       "      <td>1</td>\n",
       "      <td>0</td>\n",
       "      <td>0</td>\n",
       "      <td>0</td>\n",
       "      <td>0</td>\n",
       "      <td>0</td>\n",
       "      <td>0</td>\n",
       "      <td>0</td>\n",
       "      <td>...</td>\n",
       "      <td>0</td>\n",
       "      <td>0</td>\n",
       "      <td>0</td>\n",
       "      <td>23</td>\n",
       "      <td>0</td>\n",
       "      <td>7</td>\n",
       "      <td>9</td>\n",
       "      <td>0</td>\n",
       "      <td>1</td>\n",
       "      <td>2</td>\n",
       "    </tr>\n",
       "    <tr>\n",
       "      <th>2154</th>\n",
       "      <td>1</td>\n",
       "      <td>0.019498</td>\n",
       "      <td>1</td>\n",
       "      <td>0</td>\n",
       "      <td>0</td>\n",
       "      <td>0</td>\n",
       "      <td>0</td>\n",
       "      <td>0</td>\n",
       "      <td>0</td>\n",
       "      <td>0</td>\n",
       "      <td>...</td>\n",
       "      <td>0</td>\n",
       "      <td>0</td>\n",
       "      <td>0</td>\n",
       "      <td>20</td>\n",
       "      <td>0</td>\n",
       "      <td>7</td>\n",
       "      <td>9</td>\n",
       "      <td>0</td>\n",
       "      <td>1</td>\n",
       "      <td>2</td>\n",
       "    </tr>\n",
       "    <tr>\n",
       "      <th>4919</th>\n",
       "      <td>1</td>\n",
       "      <td>0.019591</td>\n",
       "      <td>1</td>\n",
       "      <td>0</td>\n",
       "      <td>0</td>\n",
       "      <td>0</td>\n",
       "      <td>0</td>\n",
       "      <td>0</td>\n",
       "      <td>0</td>\n",
       "      <td>0</td>\n",
       "      <td>...</td>\n",
       "      <td>0</td>\n",
       "      <td>0</td>\n",
       "      <td>0</td>\n",
       "      <td>5</td>\n",
       "      <td>0</td>\n",
       "      <td>7</td>\n",
       "      <td>10</td>\n",
       "      <td>0</td>\n",
       "      <td>5</td>\n",
       "      <td>1</td>\n",
       "    </tr>\n",
       "  </tbody>\n",
       "</table>\n",
       "<p>10 rows × 88 columns</p>\n",
       "</div>"
      ],
      "text/plain": [
       "      Labeled  Predicted Probability  Native Country=United-States  \\\n",
       "7214        1               0.001424                             0   \n",
       "149         1               0.003545                             0   \n",
       "1492        1               0.009243                             1   \n",
       "1681        1               0.009924                             1   \n",
       "5306        1               0.014526                             1   \n",
       "1027        1               0.016621                             1   \n",
       "6512        1               0.017664                             1   \n",
       "4618        1               0.017764                             1   \n",
       "2154        1               0.019498                             1   \n",
       "4919        1               0.019591                             1   \n",
       "\n",
       "      Native Country=Cuba  Native Country=Jamaica  Native Country=India  \\\n",
       "7214                    0                       0                     0   \n",
       "149                     0                       0                     0   \n",
       "1492                    0                       0                     0   \n",
       "1681                    0                       0                     0   \n",
       "5306                    0                       0                     0   \n",
       "1027                    0                       0                     0   \n",
       "6512                    0                       0                     0   \n",
       "4618                    0                       0                     0   \n",
       "2154                    0                       0                     0   \n",
       "4919                    0                       0                     0   \n",
       "\n",
       "      Native Country=?  Native Country=Mexico  Native Country=South  \\\n",
       "7214                 0                      0                     0   \n",
       "149                  0                      1                     0   \n",
       "1492                 0                      0                     0   \n",
       "1681                 0                      0                     0   \n",
       "5306                 0                      0                     0   \n",
       "1027                 0                      0                     0   \n",
       "6512                 0                      0                     0   \n",
       "4618                 0                      0                     0   \n",
       "2154                 0                      0                     0   \n",
       "4919                 0                      0                     0   \n",
       "\n",
       "      Native Country=Puerto-Rico         ...          Workclass=Self-Emp-Inc  \\\n",
       "7214                           0         ...                               0   \n",
       "149                            0         ...                               0   \n",
       "1492                           0         ...                               0   \n",
       "1681                           0         ...                               0   \n",
       "5306                           0         ...                               0   \n",
       "1027                           0         ...                               0   \n",
       "6512                           0         ...                               0   \n",
       "4618                           0         ...                               0   \n",
       "2154                           0         ...                               0   \n",
       "4919                           0         ...                               0   \n",
       "\n",
       "      Workclass=Without-Pay  Workclass=Never-Worked  Age Bin  \\\n",
       "7214                      0                       0        4   \n",
       "149                       0                       0       15   \n",
       "1492                      0                       0        8   \n",
       "1681                      0                       0       31   \n",
       "5306                      0                       0       19   \n",
       "1027                      0                       0       15   \n",
       "6512                      0                       0        9   \n",
       "4618                      0                       0       23   \n",
       "2154                      0                       0       20   \n",
       "4919                      0                       0        5   \n",
       "\n",
       "      Capital Gain Bin  Hours Per Week Bin  Years In Education Bin  \\\n",
       "7214                 0                   7                       3   \n",
       "149                  0                   7                       4   \n",
       "1492                 0                   7                      13   \n",
       "1681                 0                   3                       9   \n",
       "5306                 0                   7                       9   \n",
       "1027                 0                   7                       9   \n",
       "6512                 0                  14                       9   \n",
       "4618                 0                   7                       9   \n",
       "2154                 0                   7                       9   \n",
       "4919                 0                   7                      10   \n",
       "\n",
       "      Capital Loss Bin  Education Ide  Marital Status Ide  \n",
       "7214                 0             11                   0  \n",
       "149                  0              8                   0  \n",
       "1492                 0              0                   0  \n",
       "1681                 0              1                   6  \n",
       "5306                 0              1                   2  \n",
       "1027                 0              1                   0  \n",
       "6512                 0              1                   0  \n",
       "4618                 0              1                   2  \n",
       "2154                 0              1                   2  \n",
       "4919                 0              5                   1  \n",
       "\n",
       "[10 rows x 88 columns]"
      ]
     },
     "execution_count": 21,
     "metadata": {},
     "output_type": "execute_result"
    }
   ],
   "source": [
    "diagnostics = diagnose(model, test_df, test_labels, predictions=predictions)\n",
    "diagnostics.head(10)"
   ]
  },
  {
   "cell_type": "code",
   "execution_count": 18,
   "metadata": {},
   "outputs": [
    {
     "name": "stdout",
     "output_type": "stream",
     "text": [
      "> \u001b[0;32m/home/haiit/anaconda2/envs/pymlx/lib/python3.6/site-packages/pandas/core/indexing.py\u001b[0m(1327)\u001b[0;36m_convert_to_indexer\u001b[0;34m()\u001b[0m\n",
      "\u001b[0;32m   1325 \u001b[0;31m                \u001b[0;32mif\u001b[0m \u001b[0mmask\u001b[0m\u001b[0;34m.\u001b[0m\u001b[0many\u001b[0m\u001b[0;34m(\u001b[0m\u001b[0;34m)\u001b[0m\u001b[0;34m:\u001b[0m\u001b[0;34m\u001b[0m\u001b[0m\n",
      "\u001b[0m\u001b[0;32m   1326 \u001b[0;31m                    raise KeyError('{mask} not in index'\n",
      "\u001b[0m\u001b[0;32m-> 1327 \u001b[0;31m                                   .format(mask=objarr[mask]))\n",
      "\u001b[0m\u001b[0;32m   1328 \u001b[0;31m\u001b[0;34m\u001b[0m\u001b[0m\n",
      "\u001b[0m\u001b[0;32m   1329 \u001b[0;31m                \u001b[0;32mreturn\u001b[0m \u001b[0mcom\u001b[0m\u001b[0;34m.\u001b[0m\u001b[0m_values_from_object\u001b[0m\u001b[0;34m(\u001b[0m\u001b[0mindexer\u001b[0m\u001b[0;34m)\u001b[0m\u001b[0;34m\u001b[0m\u001b[0m\n",
      "\u001b[0m\n",
      "ipdb> up\n",
      "> \u001b[0;32m/home/haiit/anaconda2/envs/pymlx/lib/python3.6/site-packages/pandas/core/frame.py\u001b[0m(2726)\u001b[0;36m_getitem_array\u001b[0;34m()\u001b[0m\n",
      "\u001b[0;32m   2724 \u001b[0;31m            \u001b[0;32mreturn\u001b[0m \u001b[0mself\u001b[0m\u001b[0;34m.\u001b[0m\u001b[0m_take\u001b[0m\u001b[0;34m(\u001b[0m\u001b[0mindexer\u001b[0m\u001b[0;34m,\u001b[0m \u001b[0maxis\u001b[0m\u001b[0;34m=\u001b[0m\u001b[0;36m0\u001b[0m\u001b[0;34m)\u001b[0m\u001b[0;34m\u001b[0m\u001b[0m\n",
      "\u001b[0m\u001b[0;32m   2725 \u001b[0;31m        \u001b[0;32melse\u001b[0m\u001b[0;34m:\u001b[0m\u001b[0;34m\u001b[0m\u001b[0m\n",
      "\u001b[0m\u001b[0;32m-> 2726 \u001b[0;31m            \u001b[0mindexer\u001b[0m \u001b[0;34m=\u001b[0m \u001b[0mself\u001b[0m\u001b[0;34m.\u001b[0m\u001b[0mloc\u001b[0m\u001b[0;34m.\u001b[0m\u001b[0m_convert_to_indexer\u001b[0m\u001b[0;34m(\u001b[0m\u001b[0mkey\u001b[0m\u001b[0;34m,\u001b[0m \u001b[0maxis\u001b[0m\u001b[0;34m=\u001b[0m\u001b[0;36m1\u001b[0m\u001b[0;34m)\u001b[0m\u001b[0;34m\u001b[0m\u001b[0m\n",
      "\u001b[0m\u001b[0;32m   2727 \u001b[0;31m            \u001b[0;32mreturn\u001b[0m \u001b[0mself\u001b[0m\u001b[0;34m.\u001b[0m\u001b[0m_take\u001b[0m\u001b[0;34m(\u001b[0m\u001b[0mindexer\u001b[0m\u001b[0;34m,\u001b[0m \u001b[0maxis\u001b[0m\u001b[0;34m=\u001b[0m\u001b[0;36m1\u001b[0m\u001b[0;34m)\u001b[0m\u001b[0;34m\u001b[0m\u001b[0m\n",
      "\u001b[0m\u001b[0;32m   2728 \u001b[0;31m\u001b[0;34m\u001b[0m\u001b[0m\n",
      "\u001b[0m\n",
      "ipdb> up\n",
      "> \u001b[0;32m/home/haiit/anaconda2/envs/pymlx/lib/python3.6/site-packages/pandas/core/frame.py\u001b[0m(2682)\u001b[0;36m__getitem__\u001b[0;34m()\u001b[0m\n",
      "\u001b[0;32m   2680 \u001b[0;31m        \u001b[0;32mif\u001b[0m \u001b[0misinstance\u001b[0m\u001b[0;34m(\u001b[0m\u001b[0mkey\u001b[0m\u001b[0;34m,\u001b[0m \u001b[0;34m(\u001b[0m\u001b[0mSeries\u001b[0m\u001b[0;34m,\u001b[0m \u001b[0mnp\u001b[0m\u001b[0;34m.\u001b[0m\u001b[0mndarray\u001b[0m\u001b[0;34m,\u001b[0m \u001b[0mIndex\u001b[0m\u001b[0;34m,\u001b[0m \u001b[0mlist\u001b[0m\u001b[0;34m)\u001b[0m\u001b[0;34m)\u001b[0m\u001b[0;34m:\u001b[0m\u001b[0;34m\u001b[0m\u001b[0m\n",
      "\u001b[0m\u001b[0;32m   2681 \u001b[0;31m            \u001b[0;31m# either boolean or fancy integer index\u001b[0m\u001b[0;34m\u001b[0m\u001b[0;34m\u001b[0m\u001b[0m\n",
      "\u001b[0m\u001b[0;32m-> 2682 \u001b[0;31m            \u001b[0;32mreturn\u001b[0m \u001b[0mself\u001b[0m\u001b[0;34m.\u001b[0m\u001b[0m_getitem_array\u001b[0m\u001b[0;34m(\u001b[0m\u001b[0mkey\u001b[0m\u001b[0;34m)\u001b[0m\u001b[0;34m\u001b[0m\u001b[0m\n",
      "\u001b[0m\u001b[0;32m   2683 \u001b[0;31m        \u001b[0;32melif\u001b[0m \u001b[0misinstance\u001b[0m\u001b[0;34m(\u001b[0m\u001b[0mkey\u001b[0m\u001b[0;34m,\u001b[0m \u001b[0mDataFrame\u001b[0m\u001b[0;34m)\u001b[0m\u001b[0;34m:\u001b[0m\u001b[0;34m\u001b[0m\u001b[0m\n",
      "\u001b[0m\u001b[0;32m   2684 \u001b[0;31m            \u001b[0;32mreturn\u001b[0m \u001b[0mself\u001b[0m\u001b[0;34m.\u001b[0m\u001b[0m_getitem_frame\u001b[0m\u001b[0;34m(\u001b[0m\u001b[0mkey\u001b[0m\u001b[0;34m)\u001b[0m\u001b[0;34m\u001b[0m\u001b[0m\n",
      "\u001b[0m\n",
      "ipdb> up\n",
      "> \u001b[0;32m/home/haiit/Projects/MLx/pymlx/evaluation.py\u001b[0m(90)\u001b[0;36mdiagnose\u001b[0;34m()\u001b[0m\n",
      "\u001b[0;32m     88 \u001b[0;31m        \u001b[0mcols\u001b[0m \u001b[0;34m=\u001b[0m \u001b[0;34m[\u001b[0m\u001b[0mitem\u001b[0m \u001b[0;32mfor\u001b[0m \u001b[0mitem\u001b[0m \u001b[0;32min\u001b[0m \u001b[0mdf\u001b[0m\u001b[0;34m.\u001b[0m\u001b[0mcolumns\u001b[0m \u001b[0;32mif\u001b[0m \u001b[0mitem\u001b[0m \u001b[0;32mnot\u001b[0m \u001b[0;32min\u001b[0m \u001b[0mstatus_cols\u001b[0m\u001b[0;34m]\u001b[0m\u001b[0;34m\u001b[0m\u001b[0m\n",
      "\u001b[0m\u001b[0;32m     89 \u001b[0;31m\u001b[0;34m\u001b[0m\u001b[0m\n",
      "\u001b[0m\u001b[0;32m---> 90 \u001b[0;31m    \u001b[0mdf\u001b[0m \u001b[0;34m=\u001b[0m \u001b[0mdf\u001b[0m\u001b[0;34m[\u001b[0m\u001b[0mstatus_cols\u001b[0m \u001b[0;34m+\u001b[0m \u001b[0mlist\u001b[0m\u001b[0;34m(\u001b[0m\u001b[0mcols\u001b[0m\u001b[0;34m)\u001b[0m\u001b[0;34m]\u001b[0m\u001b[0;34m.\u001b[0m\u001b[0msort_values\u001b[0m\u001b[0;34m(\u001b[0m\u001b[0;34m'diff'\u001b[0m\u001b[0;34m,\u001b[0m \u001b[0mascending\u001b[0m\u001b[0;34m=\u001b[0m\u001b[0mgood_to_bad\u001b[0m\u001b[0;34m)\u001b[0m\u001b[0;34m\u001b[0m\u001b[0m\n",
      "\u001b[0m\u001b[0;32m     91 \u001b[0;31m    \u001b[0mdf\u001b[0m\u001b[0;34m.\u001b[0m\u001b[0mdrop\u001b[0m\u001b[0;34m(\u001b[0m\u001b[0;34m'diff'\u001b[0m\u001b[0;34m,\u001b[0m \u001b[0maxis\u001b[0m\u001b[0;34m=\u001b[0m\u001b[0;36m1\u001b[0m\u001b[0;34m,\u001b[0m \u001b[0minplace\u001b[0m\u001b[0;34m=\u001b[0m\u001b[0;32mTrue\u001b[0m\u001b[0;34m)\u001b[0m\u001b[0;34m\u001b[0m\u001b[0m\n",
      "\u001b[0m\u001b[0;32m     92 \u001b[0;31m    \u001b[0;32mif\u001b[0m \u001b[0mpretty\u001b[0m\u001b[0;34m:\u001b[0m\u001b[0;34m\u001b[0m\u001b[0m\n",
      "\u001b[0m\n",
      "ipdb> df.columns\n",
      "Index(['Native Country=United-States', 'Native Country=Cuba',\n",
      "       'Native Country=Jamaica', 'Native Country=India', 'Native Country=?',\n",
      "       'Native Country=Mexico', 'Native Country=South',\n",
      "       'Native Country=Puerto-Rico', 'Native Country=Honduras',\n",
      "       'Native Country=England', 'Native Country=Canada',\n",
      "       'Native Country=Germany', 'Native Country=Iran',\n",
      "       'Native Country=Philippines', 'Native Country=Italy',\n",
      "       'Native Country=Poland', 'Native Country=Columbia',\n",
      "       'Native Country=Cambodia', 'Native Country=Thailand',\n",
      "       'Native Country=Ecuador', 'Native Country=Laos',\n",
      "       'Native Country=Taiwan', 'Native Country=Haiti',\n",
      "       'Native Country=Portugal', 'Native Country=Dominican-Republic',\n",
      "       'Native Country=El-Salvador', 'Native Country=France',\n",
      "       'Native Country=Guatemala', 'Native Country=China',\n",
      "       'Native Country=Japan', 'Native Country=Yugoslavia',\n",
      "       'Native Country=Peru', 'Native Country=Outlying-US(Guam-USVI-etc)',\n",
      "       'Native Country=Scotland', 'Native Country=Trinadad&Tobago',\n",
      "       'Native Country=Greece', 'Native Country=Nicaragua',\n",
      "       'Native Country=Vietnam', 'Native Country=Hong',\n",
      "       'Native Country=Ireland', 'Native Country=Hungary',\n",
      "       'Native Country=Holand-Netherlands', 'Occupation=Adm-clerical',\n",
      "       'Occupation=Exec-managerial', 'Occupation=Handlers-cleaners',\n",
      "       'Occupation=Prof-specialty', 'Occupation=Other-service',\n",
      "       'Occupation=Sales', 'Occupation=Craft-repair',\n",
      "       'Occupation=Transport-moving', 'Occupation=Farming-fishing',\n",
      "       'Occupation=Machine-op-inspct', 'Occupation=Tech-support',\n",
      "       'Occupation=?', 'Occupation=Protective-serv', 'Occupation=Armed-Forces',\n",
      "       'Occupation=Priv-house-serv', 'Race=White', 'Race=Black',\n",
      "       'Race=Asian-Pac-Islander', 'Race=Amer-Indian-Eskimo', 'Race=Other',\n",
      "       'Relationship Status=Not-in-family', 'Relationship Status=Husband',\n",
      "       'Relationship Status=Wife', 'Relationship Status=Own-child',\n",
      "       'Relationship Status=Unmarried', 'Relationship Status=Other-relative',\n",
      "       'Sex=Male', 'Sex=Female', 'Workclass=State-gov',\n",
      "       'Workclass=Self-emp-not-inc', 'Workclass=Private',\n",
      "       'Workclass=Federal-gov', 'Workclass=Local-gov', 'Workclass=?',\n",
      "       'Workclass=Self-emp-inc', 'Workclass=Without-pay',\n",
      "       'Workclass=Never-worked', 'Age_bin', 'Capital Gain_bin',\n",
      "       'Hours per week_bin', 'Years in Education_bin', 'Capital Loss_bin',\n",
      "       'Education_ide', 'Marital Status_ide', 'Labeled',\n",
      "       'Predicted Probability', 'diff'],\n",
      "      dtype='object')\n",
      "ipdb> df['Hours per week_bin']\n",
      "0        9\n",
      "1        7\n",
      "2        6\n",
      "3       14\n",
      "4        7\n",
      "5        5\n",
      "6        7\n",
      "7        7\n",
      "8        7\n",
      "9        7\n",
      "10       7\n",
      "11       7\n",
      "12      10\n",
      "13       7\n",
      "14       7\n",
      "15       5\n",
      "16       7\n",
      "17       2\n",
      "18       7\n",
      "19      14\n",
      "20       7\n",
      "21       2\n",
      "22      18\n",
      "23      14\n",
      "24       2\n",
      "25       7\n",
      "26       7\n",
      "27       7\n",
      "28       7\n",
      "29       7\n",
      "        ..\n",
      "7531    30\n",
      "7532    18\n",
      "7533    14\n",
      "7534     6\n",
      "7535     5\n",
      "7536    16\n",
      "7537    11\n",
      "7538    10\n",
      "7539     0\n",
      "7540     7\n",
      "7541     5\n",
      "7542     3\n",
      "7543    12\n",
      "7544     4\n",
      "7545     2\n",
      "7546     7\n",
      "7547     7\n",
      "7548    18\n",
      "7549     7\n",
      "7550    14\n",
      "7551     7\n",
      "7552    10\n",
      "7553     0\n",
      "7554     7\n",
      "7555     7\n",
      "7556     6\n",
      "7557     7\n",
      "7558     7\n",
      "7559     2\n",
      "7560     7\n",
      "Name: Hours per week_bin, Length: 7561, dtype: int64\n",
      "ipdb> cols\n",
      "Index(['Age_bin', 'Hours_per_week_bin', 'Capital_Gain_bin', 'Capital_Loss_bin',\n",
      "       'Years_in_Education_bin', 'Marital_Status_ide', 'Education_ide',\n",
      "       'Relationship_Status=Husband', 'Relationship_Status=Wife',\n",
      "       'Occupation=Exec-managerial'],\n",
      "      dtype='object')\n",
      "ipdb> [item for item in df.columns if item not in status_cols]\n",
      "*** NameError: name 'status_cols' is not defined\n",
      "ipdb> [item for item in df.columns]\n",
      "['Native Country=United-States', 'Native Country=Cuba', 'Native Country=Jamaica', 'Native Country=India', 'Native Country=?', 'Native Country=Mexico', 'Native Country=South', 'Native Country=Puerto-Rico', 'Native Country=Honduras', 'Native Country=England', 'Native Country=Canada', 'Native Country=Germany', 'Native Country=Iran', 'Native Country=Philippines', 'Native Country=Italy', 'Native Country=Poland', 'Native Country=Columbia', 'Native Country=Cambodia', 'Native Country=Thailand', 'Native Country=Ecuador', 'Native Country=Laos', 'Native Country=Taiwan', 'Native Country=Haiti', 'Native Country=Portugal', 'Native Country=Dominican-Republic', 'Native Country=El-Salvador', 'Native Country=France', 'Native Country=Guatemala', 'Native Country=China', 'Native Country=Japan', 'Native Country=Yugoslavia', 'Native Country=Peru', 'Native Country=Outlying-US(Guam-USVI-etc)', 'Native Country=Scotland', 'Native Country=Trinadad&Tobago', 'Native Country=Greece', 'Native Country=Nicaragua', 'Native Country=Vietnam', 'Native Country=Hong', 'Native Country=Ireland', 'Native Country=Hungary', 'Native Country=Holand-Netherlands', 'Occupation=Adm-clerical', 'Occupation=Exec-managerial', 'Occupation=Handlers-cleaners', 'Occupation=Prof-specialty', 'Occupation=Other-service', 'Occupation=Sales', 'Occupation=Craft-repair', 'Occupation=Transport-moving', 'Occupation=Farming-fishing', 'Occupation=Machine-op-inspct', 'Occupation=Tech-support', 'Occupation=?', 'Occupation=Protective-serv', 'Occupation=Armed-Forces', 'Occupation=Priv-house-serv', 'Race=White', 'Race=Black', 'Race=Asian-Pac-Islander', 'Race=Amer-Indian-Eskimo', 'Race=Other', 'Relationship Status=Not-in-family', 'Relationship Status=Husband', 'Relationship Status=Wife', 'Relationship Status=Own-child', 'Relationship Status=Unmarried', 'Relationship Status=Other-relative', 'Sex=Male', 'Sex=Female', 'Workclass=State-gov', 'Workclass=Self-emp-not-inc', 'Workclass=Private', 'Workclass=Federal-gov', 'Workclass=Local-gov', 'Workclass=?', 'Workclass=Self-emp-inc', 'Workclass=Without-pay', 'Workclass=Never-worked', 'Age_bin', 'Capital Gain_bin', 'Hours per week_bin', 'Years in Education_bin', 'Capital Loss_bin', 'Education_ide', 'Marital Status_ide', 'Labeled', 'Predicted Probability', 'diff']\n"
     ]
    },
    {
     "name": "stdout",
     "output_type": "stream",
     "text": [
      "ipdb> list(df.columns)\n",
      "*** Error in argument: '(df.columns)'\n",
      "ipdb> df.columns\n",
      "Index(['Native Country=United-States', 'Native Country=Cuba',\n",
      "       'Native Country=Jamaica', 'Native Country=India', 'Native Country=?',\n",
      "       'Native Country=Mexico', 'Native Country=South',\n",
      "       'Native Country=Puerto-Rico', 'Native Country=Honduras',\n",
      "       'Native Country=England', 'Native Country=Canada',\n",
      "       'Native Country=Germany', 'Native Country=Iran',\n",
      "       'Native Country=Philippines', 'Native Country=Italy',\n",
      "       'Native Country=Poland', 'Native Country=Columbia',\n",
      "       'Native Country=Cambodia', 'Native Country=Thailand',\n",
      "       'Native Country=Ecuador', 'Native Country=Laos',\n",
      "       'Native Country=Taiwan', 'Native Country=Haiti',\n",
      "       'Native Country=Portugal', 'Native Country=Dominican-Republic',\n",
      "       'Native Country=El-Salvador', 'Native Country=France',\n",
      "       'Native Country=Guatemala', 'Native Country=China',\n",
      "       'Native Country=Japan', 'Native Country=Yugoslavia',\n",
      "       'Native Country=Peru', 'Native Country=Outlying-US(Guam-USVI-etc)',\n",
      "       'Native Country=Scotland', 'Native Country=Trinadad&Tobago',\n",
      "       'Native Country=Greece', 'Native Country=Nicaragua',\n",
      "       'Native Country=Vietnam', 'Native Country=Hong',\n",
      "       'Native Country=Ireland', 'Native Country=Hungary',\n",
      "       'Native Country=Holand-Netherlands', 'Occupation=Adm-clerical',\n",
      "       'Occupation=Exec-managerial', 'Occupation=Handlers-cleaners',\n",
      "       'Occupation=Prof-specialty', 'Occupation=Other-service',\n",
      "       'Occupation=Sales', 'Occupation=Craft-repair',\n",
      "       'Occupation=Transport-moving', 'Occupation=Farming-fishing',\n",
      "       'Occupation=Machine-op-inspct', 'Occupation=Tech-support',\n",
      "       'Occupation=?', 'Occupation=Protective-serv', 'Occupation=Armed-Forces',\n",
      "       'Occupation=Priv-house-serv', 'Race=White', 'Race=Black',\n",
      "       'Race=Asian-Pac-Islander', 'Race=Amer-Indian-Eskimo', 'Race=Other',\n",
      "       'Relationship Status=Not-in-family', 'Relationship Status=Husband',\n",
      "       'Relationship Status=Wife', 'Relationship Status=Own-child',\n",
      "       'Relationship Status=Unmarried', 'Relationship Status=Other-relative',\n",
      "       'Sex=Male', 'Sex=Female', 'Workclass=State-gov',\n",
      "       'Workclass=Self-emp-not-inc', 'Workclass=Private',\n",
      "       'Workclass=Federal-gov', 'Workclass=Local-gov', 'Workclass=?',\n",
      "       'Workclass=Self-emp-inc', 'Workclass=Without-pay',\n",
      "       'Workclass=Never-worked', 'Age_bin', 'Capital Gain_bin',\n",
      "       'Hours per week_bin', 'Years in Education_bin', 'Capital Loss_bin',\n",
      "       'Education_ide', 'Marital Status_ide', 'Labeled',\n",
      "       'Predicted Probability', 'diff'],\n",
      "      dtype='object')\n",
      "ipdb> exit\n"
     ]
    }
   ],
   "source": [
    "debug"
   ]
  }
 ],
 "metadata": {
  "kernelspec": {
   "display_name": "Python 3.6",
   "language": "python",
   "name": "python3"
  },
  "language_info": {
   "codemirror_mode": {
    "name": "ipython",
    "version": 3
   },
   "file_extension": ".py",
   "mimetype": "text/x-python",
   "name": "python",
   "nbconvert_exporter": "python",
   "pygments_lexer": "ipython3",
   "version": "3.6.6"
  }
 },
 "nbformat": 4,
 "nbformat_minor": 2
}
